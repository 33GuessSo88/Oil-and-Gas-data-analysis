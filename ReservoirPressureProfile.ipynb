{
  "nbformat": 4,
  "nbformat_minor": 0,
  "metadata": {
    "colab": {
      "name": "ReservoirPressureProfile.ipynb",
      "provenance": [],
      "collapsed_sections": [],
      "authorship_tag": "ABX9TyN43GaCOWilS7yS/lnPSvou",
      "include_colab_link": true
    },
    "kernelspec": {
      "name": "python3",
      "display_name": "Python 3"
    }
  },
  "cells": [
    {
      "cell_type": "markdown",
      "metadata": {
        "id": "view-in-github",
        "colab_type": "text"
      },
      "source": [
        "<a href=\"https://colab.research.google.com/github/Divyanshu-ISM/Oil-and-Gas-data-analysis/blob/master/ReservoirPressureProfile.ipynb\" target=\"_parent\"><img src=\"https://colab.research.google.com/assets/colab-badge.svg\" alt=\"Open In Colab\"/></a>"
      ]
    },
    {
      "cell_type": "code",
      "metadata": {
        "id": "DT5olCJEJZcH",
        "colab_type": "code",
        "colab": {}
      },
      "source": [
        "#How pressure profile changes when you change different parameters in Darcy's LAW\n",
        "#Darcy's law - q = kh(DP)/(141.2uBln(re/rw))\n",
        "#- DP = (141.2quB/kh).ln(re/rw)\n",
        "# P = Pwf + DP(r)"
      ],
      "execution_count": 0,
      "outputs": []
    },
    {
      "cell_type": "code",
      "metadata": {
        "id": "V6gjbPPdJxxk",
        "colab_type": "code",
        "colab": {
          "base_uri": "https://localhost:8080/",
          "height": 34
        },
        "outputId": "9dc7180f-0f37-482e-9a9f-03b9229ef741"
      },
      "source": [
        "import numpy as np\n",
        "import matplotlib.pyplot as plt\n",
        "%matplotlib inline\n",
        "\n",
        "# #TIPS to use the TOOL-\n",
        "# 1. Use only 2 cases to compare, which will give you a clearer picture. \n",
        "# 2. enter the same properties in both cases, except for which you want to see the effect of. \n",
        "# EXAMPLE- I wanted to see the effect of viscocity so i have changed nothing but viscocity. \n"
      ],
      "execution_count": 25,
      "outputs": [
        {
          "output_type": "execute_result",
          "data": {
            "text/plain": [
              "array([3, 2, 1])"
            ]
          },
          "metadata": {
            "tags": []
          },
          "execution_count": 25
        }
      ]
    },
    {
      "cell_type": "code",
      "metadata": {
        "id": "W2pi7H90LuU5",
        "colab_type": "code",
        "colab": {
          "base_uri": "https://localhost:8080/",
          "height": 800
        },
        "outputId": "d745539b-9048-4761-a6fa-3eca9bdb1919"
      },
      "source": [
        "ans = 'yes'\n",
        "p = []\n",
        "while ans.lower() == 'yes':\n",
        "  r = np.linspace(1,3000,num=50)\n",
        "  print(\"\\n Enter the Properties\")\n",
        "  q = int(input(\"\\nFlow rate Q(STB/D)- \"))\n",
        "  u = int(input(\"\\nOil viscocity(cp)- \"))\n",
        "  B = 1.2 #bbl/stb\n",
        "  k = int(input(\"\\nPermeability(mD)- \"))\n",
        "  h = int(input(\"\\nReservoir thickness(ft)- \"))\n",
        "  Pe = 3000 #psi\n",
        "  rw = 0.5 #ft\n",
        "  DP = (141.2*q*u*B/(k*h))*(np.log(3000/r))\n",
        "  P = Pe - DP\n",
        "  p.append(P)\n",
        "  ans = input('\\n Want to try again? (yes/no)-')\n",
        "\n",
        "\n",
        "plt.figure(figsize=(10,6))\n",
        "for i in range(len(p)):\n",
        "  \n",
        "  plt.plot(r,p[i])\n",
        "  plt.xlim(1,3000)\n",
        "  plt.ylim(0,5000)\n",
        "  plt.xlabel('distance from the well,r(ft)--->')\n",
        "  plt.ylabel('Pressure P(psi)')\n",
        "  plt.legend(['case1','case2'])\n",
        " \n",
        "\n",
        "\n"
      ],
      "execution_count": 47,
      "outputs": [
        {
          "output_type": "stream",
          "text": [
            "\n",
            " Enter the Properties\n",
            "\n",
            "Flow rate Q(STB/D)- 200\n",
            "\n",
            "Oil viscocity(cp)- 10\n",
            "\n",
            "Permeability(mD)- 150\n",
            "\n",
            "Reservoir thickness(ft)- 30\n",
            "\n",
            " Want to try again? (yes/no)-yes\n",
            "\n",
            " Enter the Properties\n",
            "\n",
            "Flow rate Q(STB/D)- 200\n",
            "\n",
            "Oil viscocity(cp)- 100\n",
            "\n",
            "Permeability(mD)- 150\n",
            "\n",
            "Reservoir thickness(ft)- 30\n",
            "\n",
            " Want to try again? (yes/no)-n\n"
          ],
          "name": "stdout"
        },
        {
          "output_type": "display_data",
          "data": {
            "image/png": "[encoded data removed]",
            "text/plain": [
              "<Figure size 720x432 with 1 Axes>"
            ]
          },
          "metadata": {
            "tags": [],
            "needs_background": "light"
          }
        }
      ]
    },
    {
      "cell_type": "code",
      "metadata": {
        "id": "YpF1eDzIOYGV",
        "colab_type": "code",
        "colab": {}
      },
      "source": [
        "# You can clearly see how increasing the viscocity of oil increased the pressure drop by a huge margin.\n",
        "#in easy words, thicker the oil, more pressure it requires to move, more pressure it looses on its journey to the well."
      ],
      "execution_count": 0,
      "outputs": []
    },
    {
      "cell_type": "code",
      "metadata": {
        "id": "UUUBW__5eH1S",
        "colab_type": "code",
        "colab": {
          "base_uri": "https://localhost:8080/",
          "height": 238
        },
        "outputId": "b7d9a6de-2d95-47e8-b849-dcd0b46ec318"
      },
      "source": [
        "r"
      ],
      "execution_count": 39,
      "outputs": [
        {
          "output_type": "execute_result",
          "data": {
            "text/plain": [
              "array([1.00000000e+00, 6.22040816e+01, 1.23408163e+02, 1.84612245e+02,\n",
              "       2.45816327e+02, 3.07020408e+02, 3.68224490e+02, 4.29428571e+02,\n",
              "       4.90632653e+02, 5.51836735e+02, 6.13040816e+02, 6.74244898e+02,\n",
              "       7.35448980e+02, 7.96653061e+02, 8.57857143e+02, 9.19061224e+02,\n",
              "       9.80265306e+02, 1.04146939e+03, 1.10267347e+03, 1.16387755e+03,\n",
              "       1.22508163e+03, 1.28628571e+03, 1.34748980e+03, 1.40869388e+03,\n",
              "       1.46989796e+03, 1.53110204e+03, 1.59230612e+03, 1.65351020e+03,\n",
              "       1.71471429e+03, 1.77591837e+03, 1.83712245e+03, 1.89832653e+03,\n",
              "       1.95953061e+03, 2.02073469e+03, 2.08193878e+03, 2.14314286e+03,\n",
              "       2.20434694e+03, 2.26555102e+03, 2.32675510e+03, 2.38795918e+03,\n",
              "       2.44916327e+03, 2.51036735e+03, 2.57157143e+03, 2.63277551e+03,\n",
              "       2.69397959e+03, 2.75518367e+03, 2.81638776e+03, 2.87759184e+03,\n",
              "       2.93879592e+03, 3.00000000e+03])"
            ]
          },
          "metadata": {
            "tags": []
          },
          "execution_count": 39
        }
      ]
    },
    {
      "cell_type": "code",
      "metadata": {
        "id": "jUdO_-u3eLTb",
        "colab_type": "code",
        "colab": {
          "base_uri": "https://localhost:8080/",
          "height": 282
        },
        "outputId": "1376f73b-d3dc-4ccd-882c-6355ef9943b6"
      },
      "source": [
        "plt.plot(r,p[0])"
      ],
      "execution_count": 40,
      "outputs": [
        {
          "output_type": "execute_result",
          "data": {
            "text/plain": [
              "[<matplotlib.lines.Line2D at 0x7fac2dfd0940>]"
            ]
          },
          "metadata": {
            "tags": []
          },
          "execution_count": 40
        },
        {
          "output_type": "display_data",
          "data": {
            "image/png": "[encoded data removed]",
            "text/plain": [
              "<Figure size 432x288 with 1 Axes>"
            ]
          },
          "metadata": {
            "tags": [],
            "needs_background": "light"
          }
        }
      ]
    },
    {
      "cell_type": "code",
      "metadata": {
        "id": "Dx4ccNnxeX-p",
        "colab_type": "code",
        "colab": {}
      },
      "source": [
        ""
      ],
      "execution_count": 0,
      "outputs": []
    }
  ]
}
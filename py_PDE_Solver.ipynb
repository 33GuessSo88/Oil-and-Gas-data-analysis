{
  "nbformat": 4,
  "nbformat_minor": 0,
  "metadata": {
    "colab": {
      "name": "py_PDE_Solver.ipynb",
      "provenance": [],
      "collapsed_sections": [],
      "authorship_tag": "ABX9TyNUhfs/ZzIiHgiJLRmPdNJG",
      "include_colab_link": true
    },
    "kernelspec": {
      "name": "python3",
      "display_name": "Python 3"
    },
    "widgets": {
      "application/vnd.jupyter.widget-state+json": {
        "28aa71ffbed140c0849350513dd7e624": {
          "model_module": "@jupyter-widgets/controls",
          "model_name": "HBoxModel",
          "state": {
            "_view_name": "HBoxView",
            "_dom_classes": [],
            "_model_name": "HBoxModel",
            "_view_module": "@jupyter-widgets/controls",
            "_model_module_version": "1.5.0",
            "_view_count": null,
            "_view_module_version": "1.5.0",
            "box_style": "",
            "layout": "IPY_MODEL_5ce7327bd51d40e696f21072fa1d7781",
            "_model_module": "@jupyter-widgets/controls",
            "children": [
              "IPY_MODEL_1660a5b39d834c8eb487e9de17116814",
              "IPY_MODEL_08535d6d52ab4fe6a3080e8920a1064a"
            ]
          }
        },
        "5ce7327bd51d40e696f21072fa1d7781": {
          "model_module": "@jupyter-widgets/base",
          "model_name": "LayoutModel",
          "state": {
            "_view_name": "LayoutView",
            "grid_template_rows": null,
            "right": null,
            "justify_content": null,
            "_view_module": "@jupyter-widgets/base",
            "overflow": null,
            "_model_module_version": "1.2.0",
            "_view_count": null,
            "flex_flow": null,
            "width": null,
            "min_width": null,
            "border": null,
            "align_items": null,
            "bottom": null,
            "_model_module": "@jupyter-widgets/base",
            "top": null,
            "grid_column": null,
            "overflow_y": null,
            "overflow_x": null,
            "grid_auto_flow": null,
            "grid_area": null,
            "grid_template_columns": null,
            "flex": null,
            "_model_name": "LayoutModel",
            "justify_items": null,
            "grid_row": null,
            "max_height": null,
            "align_content": null,
            "visibility": null,
            "align_self": null,
            "height": null,
            "min_height": null,
            "padding": null,
            "grid_auto_rows": null,
            "grid_gap": null,
            "max_width": null,
            "order": null,
            "_view_module_version": "1.2.0",
            "grid_template_areas": null,
            "object_position": null,
            "object_fit": null,
            "grid_auto_columns": null,
            "margin": null,
            "display": null,
            "left": null
          }
        },
        "1660a5b39d834c8eb487e9de17116814": {
          "model_module": "@jupyter-widgets/controls",
          "model_name": "FloatProgressModel",
          "state": {
            "_view_name": "ProgressView",
            "style": "IPY_MODEL_51702347c7d24319b0de88b8ac1e76b7",
            "_dom_classes": [],
            "description": "100%",
            "_model_name": "FloatProgressModel",
            "bar_style": "success",
            "max": 10,
            "_view_module": "@jupyter-widgets/controls",
            "_model_module_version": "1.5.0",
            "value": 10,
            "_view_count": null,
            "_view_module_version": "1.5.0",
            "orientation": "horizontal",
            "min": 0,
            "description_tooltip": null,
            "_model_module": "@jupyter-widgets/controls",
            "layout": "IPY_MODEL_d910afe1e97e457d887579d99fd8a7aa"
          }
        },
        "08535d6d52ab4fe6a3080e8920a1064a": {
          "model_module": "@jupyter-widgets/controls",
          "model_name": "HTMLModel",
          "state": {
            "_view_name": "HTMLView",
            "style": "IPY_MODEL_38cd2547730a44b8acdfa5c01ea59007",
            "_dom_classes": [],
            "description": "",
            "_model_name": "HTMLModel",
            "placeholder": "​",
            "_view_module": "@jupyter-widgets/controls",
            "_model_module_version": "1.5.0",
            "value": " 10.0/10.0 [03:57&lt;00:00, 23.72s/it]",
            "_view_count": null,
            "_view_module_version": "1.5.0",
            "description_tooltip": null,
            "_model_module": "@jupyter-widgets/controls",
            "layout": "IPY_MODEL_077aac69b2444d338c06e6c7e2583a30"
          }
        },
        "51702347c7d24319b0de88b8ac1e76b7": {
          "model_module": "@jupyter-widgets/controls",
          "model_name": "ProgressStyleModel",
          "state": {
            "_view_name": "StyleView",
            "_model_name": "ProgressStyleModel",
            "description_width": "initial",
            "_view_module": "@jupyter-widgets/base",
            "_model_module_version": "1.5.0",
            "_view_count": null,
            "_view_module_version": "1.2.0",
            "bar_color": null,
            "_model_module": "@jupyter-widgets/controls"
          }
        },
        "d910afe1e97e457d887579d99fd8a7aa": {
          "model_module": "@jupyter-widgets/base",
          "model_name": "LayoutModel",
          "state": {
            "_view_name": "LayoutView",
            "grid_template_rows": null,
            "right": null,
            "justify_content": null,
            "_view_module": "@jupyter-widgets/base",
            "overflow": null,
            "_model_module_version": "1.2.0",
            "_view_count": null,
            "flex_flow": null,
            "width": null,
            "min_width": null,
            "border": null,
            "align_items": null,
            "bottom": null,
            "_model_module": "@jupyter-widgets/base",
            "top": null,
            "grid_column": null,
            "overflow_y": null,
            "overflow_x": null,
            "grid_auto_flow": null,
            "grid_area": null,
            "grid_template_columns": null,
            "flex": null,
            "_model_name": "LayoutModel",
            "justify_items": null,
            "grid_row": null,
            "max_height": null,
            "align_content": null,
            "visibility": null,
            "align_self": null,
            "height": null,
            "min_height": null,
            "padding": null,
            "grid_auto_rows": null,
            "grid_gap": null,
            "max_width": null,
            "order": null,
            "_view_module_version": "1.2.0",
            "grid_template_areas": null,
            "object_position": null,
            "object_fit": null,
            "grid_auto_columns": null,
            "margin": null,
            "display": null,
            "left": null
          }
        },
        "38cd2547730a44b8acdfa5c01ea59007": {
          "model_module": "@jupyter-widgets/controls",
          "model_name": "DescriptionStyleModel",
          "state": {
            "_view_name": "StyleView",
            "_model_name": "DescriptionStyleModel",
            "description_width": "",
            "_view_module": "@jupyter-widgets/base",
            "_model_module_version": "1.5.0",
            "_view_count": null,
            "_view_module_version": "1.2.0",
            "_model_module": "@jupyter-widgets/controls"
          }
        },
        "077aac69b2444d338c06e6c7e2583a30": {
          "model_module": "@jupyter-widgets/base",
          "model_name": "LayoutModel",
          "state": {
            "_view_name": "LayoutView",
            "grid_template_rows": null,
            "right": null,
            "justify_content": null,
            "_view_module": "@jupyter-widgets/base",
            "overflow": null,
            "_model_module_version": "1.2.0",
            "_view_count": null,
            "flex_flow": null,
            "width": null,
            "min_width": null,
            "border": null,
            "align_items": null,
            "bottom": null,
            "_model_module": "@jupyter-widgets/base",
            "top": null,
            "grid_column": null,
            "overflow_y": null,
            "overflow_x": null,
            "grid_auto_flow": null,
            "grid_area": null,
            "grid_template_columns": null,
            "flex": null,
            "_model_name": "LayoutModel",
            "justify_items": null,
            "grid_row": null,
            "max_height": null,
            "align_content": null,
            "visibility": null,
            "align_self": null,
            "height": null,
            "min_height": null,
            "padding": null,
            "grid_auto_rows": null,
            "grid_gap": null,
            "max_width": null,
            "order": null,
            "_view_module_version": "1.2.0",
            "grid_template_areas": null,
            "object_position": null,
            "object_fit": null,
            "grid_auto_columns": null,
            "margin": null,
            "display": null,
            "left": null
          }
        },
        "f543614b4484425dbe123d97f8c300db": {
          "model_module": "@jupyter-widgets/controls",
          "model_name": "HBoxModel",
          "state": {
            "_view_name": "HBoxView",
            "_dom_classes": [],
            "_model_name": "HBoxModel",
            "_view_module": "@jupyter-widgets/controls",
            "_model_module_version": "1.5.0",
            "_view_count": null,
            "_view_module_version": "1.5.0",
            "box_style": "",
            "layout": "IPY_MODEL_7d3cc6f6e93046128b1bfbae4acd0caa",
            "_model_module": "@jupyter-widgets/controls",
            "children": [
              "IPY_MODEL_703eff7787a84417a74d75bf69dd86ae",
              "IPY_MODEL_bb0a07b151d641bb9f992b347a763fbf"
            ]
          }
        },
        "7d3cc6f6e93046128b1bfbae4acd0caa": {
          "model_module": "@jupyter-widgets/base",
          "model_name": "LayoutModel",
          "state": {
            "_view_name": "LayoutView",
            "grid_template_rows": null,
            "right": null,
            "justify_content": null,
            "_view_module": "@jupyter-widgets/base",
            "overflow": null,
            "_model_module_version": "1.2.0",
            "_view_count": null,
            "flex_flow": null,
            "width": null,
            "min_width": null,
            "border": null,
            "align_items": null,
            "bottom": null,
            "_model_module": "@jupyter-widgets/base",
            "top": null,
            "grid_column": null,
            "overflow_y": null,
            "overflow_x": null,
            "grid_auto_flow": null,
            "grid_area": null,
            "grid_template_columns": null,
            "flex": null,
            "_model_name": "LayoutModel",
            "justify_items": null,
            "grid_row": null,
            "max_height": null,
            "align_content": null,
            "visibility": null,
            "align_self": null,
            "height": null,
            "min_height": null,
            "padding": null,
            "grid_auto_rows": null,
            "grid_gap": null,
            "max_width": null,
            "order": null,
            "_view_module_version": "1.2.0",
            "grid_template_areas": null,
            "object_position": null,
            "object_fit": null,
            "grid_auto_columns": null,
            "margin": null,
            "display": null,
            "left": null
          }
        },
        "703eff7787a84417a74d75bf69dd86ae": {
          "model_module": "@jupyter-widgets/controls",
          "model_name": "FloatProgressModel",
          "state": {
            "_view_name": "ProgressView",
            "style": "IPY_MODEL_7f369f5378134eb88731311a8b1ddb60",
            "_dom_classes": [],
            "description": "100%",
            "_model_name": "FloatProgressModel",
            "bar_style": "success",
            "max": 10,
            "_view_module": "@jupyter-widgets/controls",
            "_model_module_version": "1.5.0",
            "value": 10,
            "_view_count": null,
            "_view_module_version": "1.5.0",
            "orientation": "horizontal",
            "min": 0,
            "description_tooltip": null,
            "_model_module": "@jupyter-widgets/controls",
            "layout": "IPY_MODEL_b7006184832a4f78a16dcd477ce9388e"
          }
        },
        "bb0a07b151d641bb9f992b347a763fbf": {
          "model_module": "@jupyter-widgets/controls",
          "model_name": "HTMLModel",
          "state": {
            "_view_name": "HTMLView",
            "style": "IPY_MODEL_394d23cac08b4486b531fdb8ce9019ab",
            "_dom_classes": [],
            "description": "",
            "_model_name": "HTMLModel",
            "placeholder": "​",
            "_view_module": "@jupyter-widgets/controls",
            "_model_module_version": "1.5.0",
            "value": " 10.0/10.0 [02:10&lt;00:00, 13.07s/it]",
            "_view_count": null,
            "_view_module_version": "1.5.0",
            "description_tooltip": null,
            "_model_module": "@jupyter-widgets/controls",
            "layout": "IPY_MODEL_a0b7461f1c1e4ca69177f07676771bf7"
          }
        },
        "7f369f5378134eb88731311a8b1ddb60": {
          "model_module": "@jupyter-widgets/controls",
          "model_name": "ProgressStyleModel",
          "state": {
            "_view_name": "StyleView",
            "_model_name": "ProgressStyleModel",
            "description_width": "initial",
            "_view_module": "@jupyter-widgets/base",
            "_model_module_version": "1.5.0",
            "_view_count": null,
            "_view_module_version": "1.2.0",
            "bar_color": null,
            "_model_module": "@jupyter-widgets/controls"
          }
        },
        "b7006184832a4f78a16dcd477ce9388e": {
          "model_module": "@jupyter-widgets/base",
          "model_name": "LayoutModel",
          "state": {
            "_view_name": "LayoutView",
            "grid_template_rows": null,
            "right": null,
            "justify_content": null,
            "_view_module": "@jupyter-widgets/base",
            "overflow": null,
            "_model_module_version": "1.2.0",
            "_view_count": null,
            "flex_flow": null,
            "width": null,
            "min_width": null,
            "border": null,
            "align_items": null,
            "bottom": null,
            "_model_module": "@jupyter-widgets/base",
            "top": null,
            "grid_column": null,
            "overflow_y": null,
            "overflow_x": null,
            "grid_auto_flow": null,
            "grid_area": null,
            "grid_template_columns": null,
            "flex": null,
            "_model_name": "LayoutModel",
            "justify_items": null,
            "grid_row": null,
            "max_height": null,
            "align_content": null,
            "visibility": null,
            "align_self": null,
            "height": null,
            "min_height": null,
            "padding": null,
            "grid_auto_rows": null,
            "grid_gap": null,
            "max_width": null,
            "order": null,
            "_view_module_version": "1.2.0",
            "grid_template_areas": null,
            "object_position": null,
            "object_fit": null,
            "grid_auto_columns": null,
            "margin": null,
            "display": null,
            "left": null
          }
        },
        "394d23cac08b4486b531fdb8ce9019ab": {
          "model_module": "@jupyter-widgets/controls",
          "model_name": "DescriptionStyleModel",
          "state": {
            "_view_name": "StyleView",
            "_model_name": "DescriptionStyleModel",
            "description_width": "",
            "_view_module": "@jupyter-widgets/base",
            "_model_module_version": "1.5.0",
            "_view_count": null,
            "_view_module_version": "1.2.0",
            "_model_module": "@jupyter-widgets/controls"
          }
        },
        "a0b7461f1c1e4ca69177f07676771bf7": {
          "model_module": "@jupyter-widgets/base",
          "model_name": "LayoutModel",
          "state": {
            "_view_name": "LayoutView",
            "grid_template_rows": null,
            "right": null,
            "justify_content": null,
            "_view_module": "@jupyter-widgets/base",
            "overflow": null,
            "_model_module_version": "1.2.0",
            "_view_count": null,
            "flex_flow": null,
            "width": null,
            "min_width": null,
            "border": null,
            "align_items": null,
            "bottom": null,
            "_model_module": "@jupyter-widgets/base",
            "top": null,
            "grid_column": null,
            "overflow_y": null,
            "overflow_x": null,
            "grid_auto_flow": null,
            "grid_area": null,
            "grid_template_columns": null,
            "flex": null,
            "_model_name": "LayoutModel",
            "justify_items": null,
            "grid_row": null,
            "max_height": null,
            "align_content": null,
            "visibility": null,
            "align_self": null,
            "height": null,
            "min_height": null,
            "padding": null,
            "grid_auto_rows": null,
            "grid_gap": null,
            "max_width": null,
            "order": null,
            "_view_module_version": "1.2.0",
            "grid_template_areas": null,
            "object_position": null,
            "object_fit": null,
            "grid_auto_columns": null,
            "margin": null,
            "display": null,
            "left": null
          }
        },
        "5c97aa33625947e882eb140bef19a2bc": {
          "model_module": "@jupyter-widgets/output",
          "model_name": "OutputModel",
          "state": {
            "_view_name": "OutputView",
            "msg_id": "",
            "_dom_classes": [],
            "_model_name": "OutputModel",
            "outputs": [
              {
                "output_type": "display_data",
                "metadata": {
                  "tags": []
                },
                "image/png": "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\n",
                "text/plain": "<Figure size 640x480 with 1 Axes>"
              }
            ],
            "_view_module": "@jupyter-widgets/output",
            "_model_module_version": "1.0.0",
            "_view_count": null,
            "_view_module_version": "1.0.0",
            "layout": "IPY_MODEL_e096f55d40e14bd1a6aab876db69a9e0",
            "_model_module": "@jupyter-widgets/output"
          }
        },
        "e096f55d40e14bd1a6aab876db69a9e0": {
          "model_module": "@jupyter-widgets/base",
          "model_name": "LayoutModel",
          "state": {
            "_view_name": "LayoutView",
            "grid_template_rows": null,
            "right": null,
            "justify_content": null,
            "_view_module": "@jupyter-widgets/base",
            "overflow": null,
            "_model_module_version": "1.2.0",
            "_view_count": null,
            "flex_flow": null,
            "width": null,
            "min_width": null,
            "border": null,
            "align_items": null,
            "bottom": null,
            "_model_module": "@jupyter-widgets/base",
            "top": null,
            "grid_column": null,
            "overflow_y": null,
            "overflow_x": null,
            "grid_auto_flow": null,
            "grid_area": null,
            "grid_template_columns": null,
            "flex": null,
            "_model_name": "LayoutModel",
            "justify_items": null,
            "grid_row": null,
            "max_height": null,
            "align_content": null,
            "visibility": null,
            "align_self": null,
            "height": null,
            "min_height": null,
            "padding": null,
            "grid_auto_rows": null,
            "grid_gap": null,
            "max_width": null,
            "order": null,
            "_view_module_version": "1.2.0",
            "grid_template_areas": null,
            "object_position": null,
            "object_fit": null,
            "grid_auto_columns": null,
            "margin": null,
            "display": null,
            "left": null
          }
        },
        "33515f23ed3943a1a0d720d201d0a54e": {
          "model_module": "@jupyter-widgets/controls",
          "model_name": "HBoxModel",
          "state": {
            "_view_name": "HBoxView",
            "_dom_classes": [],
            "_model_name": "HBoxModel",
            "_view_module": "@jupyter-widgets/controls",
            "_model_module_version": "1.5.0",
            "_view_count": null,
            "_view_module_version": "1.5.0",
            "box_style": "",
            "layout": "IPY_MODEL_2960dbca43d14f938b747fd64deb6509",
            "_model_module": "@jupyter-widgets/controls",
            "children": [
              "IPY_MODEL_6fb6e9b1604e4b71ab87f8db4002cfec",
              "IPY_MODEL_9ce9c321e0944cbe921c90715c0e9c95"
            ]
          }
        },
        "2960dbca43d14f938b747fd64deb6509": {
          "model_module": "@jupyter-widgets/base",
          "model_name": "LayoutModel",
          "state": {
            "_view_name": "LayoutView",
            "grid_template_rows": null,
            "right": null,
            "justify_content": null,
            "_view_module": "@jupyter-widgets/base",
            "overflow": null,
            "_model_module_version": "1.2.0",
            "_view_count": null,
            "flex_flow": null,
            "width": null,
            "min_width": null,
            "border": null,
            "align_items": null,
            "bottom": null,
            "_model_module": "@jupyter-widgets/base",
            "top": null,
            "grid_column": null,
            "overflow_y": null,
            "overflow_x": null,
            "grid_auto_flow": null,
            "grid_area": null,
            "grid_template_columns": null,
            "flex": null,
            "_model_name": "LayoutModel",
            "justify_items": null,
            "grid_row": null,
            "max_height": null,
            "align_content": null,
            "visibility": null,
            "align_self": null,
            "height": null,
            "min_height": null,
            "padding": null,
            "grid_auto_rows": null,
            "grid_gap": null,
            "max_width": null,
            "order": null,
            "_view_module_version": "1.2.0",
            "grid_template_areas": null,
            "object_position": null,
            "object_fit": null,
            "grid_auto_columns": null,
            "margin": null,
            "display": null,
            "left": null
          }
        },
        "6fb6e9b1604e4b71ab87f8db4002cfec": {
          "model_module": "@jupyter-widgets/controls",
          "model_name": "FloatProgressModel",
          "state": {
            "_view_name": "ProgressView",
            "style": "IPY_MODEL_6e820978d8e04f078d9ef47d7903479b",
            "_dom_classes": [],
            "description": "100%",
            "_model_name": "FloatProgressModel",
            "bar_style": "success",
            "max": 10,
            "_view_module": "@jupyter-widgets/controls",
            "_model_module_version": "1.5.0",
            "value": 10,
            "_view_count": null,
            "_view_module_version": "1.5.0",
            "orientation": "horizontal",
            "min": 0,
            "description_tooltip": null,
            "_model_module": "@jupyter-widgets/controls",
            "layout": "IPY_MODEL_0b723d0e19074e56a5eea934d96548a1"
          }
        },
        "9ce9c321e0944cbe921c90715c0e9c95": {
          "model_module": "@jupyter-widgets/controls",
          "model_name": "HTMLModel",
          "state": {
            "_view_name": "HTMLView",
            "style": "IPY_MODEL_b4fd1b2cb3b341079762a8d297ebb5f0",
            "_dom_classes": [],
            "description": "",
            "_model_name": "HTMLModel",
            "placeholder": "​",
            "_view_module": "@jupyter-widgets/controls",
            "_model_module_version": "1.5.0",
            "value": " 10.0/10.0 [00:21&lt;00:00,  2.12s/it]",
            "_view_count": null,
            "_view_module_version": "1.5.0",
            "description_tooltip": null,
            "_model_module": "@jupyter-widgets/controls",
            "layout": "IPY_MODEL_6756de83e25e42639ba39cd262c0131c"
          }
        },
        "6e820978d8e04f078d9ef47d7903479b": {
          "model_module": "@jupyter-widgets/controls",
          "model_name": "ProgressStyleModel",
          "state": {
            "_view_name": "StyleView",
            "_model_name": "ProgressStyleModel",
            "description_width": "initial",
            "_view_module": "@jupyter-widgets/base",
            "_model_module_version": "1.5.0",
            "_view_count": null,
            "_view_module_version": "1.2.0",
            "bar_color": null,
            "_model_module": "@jupyter-widgets/controls"
          }
        },
        "0b723d0e19074e56a5eea934d96548a1": {
          "model_module": "@jupyter-widgets/base",
          "model_name": "LayoutModel",
          "state": {
            "_view_name": "LayoutView",
            "grid_template_rows": null,
            "right": null,
            "justify_content": null,
            "_view_module": "@jupyter-widgets/base",
            "overflow": null,
            "_model_module_version": "1.2.0",
            "_view_count": null,
            "flex_flow": null,
            "width": null,
            "min_width": null,
            "border": null,
            "align_items": null,
            "bottom": null,
            "_model_module": "@jupyter-widgets/base",
            "top": null,
            "grid_column": null,
            "overflow_y": null,
            "overflow_x": null,
            "grid_auto_flow": null,
            "grid_area": null,
            "grid_template_columns": null,
            "flex": null,
            "_model_name": "LayoutModel",
            "justify_items": null,
            "grid_row": null,
            "max_height": null,
            "align_content": null,
            "visibility": null,
            "align_self": null,
            "height": null,
            "min_height": null,
            "padding": null,
            "grid_auto_rows": null,
            "grid_gap": null,
            "max_width": null,
            "order": null,
            "_view_module_version": "1.2.0",
            "grid_template_areas": null,
            "object_position": null,
            "object_fit": null,
            "grid_auto_columns": null,
            "margin": null,
            "display": null,
            "left": null
          }
        },
        "b4fd1b2cb3b341079762a8d297ebb5f0": {
          "model_module": "@jupyter-widgets/controls",
          "model_name": "DescriptionStyleModel",
          "state": {
            "_view_name": "StyleView",
            "_model_name": "DescriptionStyleModel",
            "description_width": "",
            "_view_module": "@jupyter-widgets/base",
            "_model_module_version": "1.5.0",
            "_view_count": null,
            "_view_module_version": "1.2.0",
            "_model_module": "@jupyter-widgets/controls"
          }
        },
        "6756de83e25e42639ba39cd262c0131c": {
          "model_module": "@jupyter-widgets/base",
          "model_name": "LayoutModel",
          "state": {
            "_view_name": "LayoutView",
            "grid_template_rows": null,
            "right": null,
            "justify_content": null,
            "_view_module": "@jupyter-widgets/base",
            "overflow": null,
            "_model_module_version": "1.2.0",
            "_view_count": null,
            "flex_flow": null,
            "width": null,
            "min_width": null,
            "border": null,
            "align_items": null,
            "bottom": null,
            "_model_module": "@jupyter-widgets/base",
            "top": null,
            "grid_column": null,
            "overflow_y": null,
            "overflow_x": null,
            "grid_auto_flow": null,
            "grid_area": null,
            "grid_template_columns": null,
            "flex": null,
            "_model_name": "LayoutModel",
            "justify_items": null,
            "grid_row": null,
            "max_height": null,
            "align_content": null,
            "visibility": null,
            "align_self": null,
            "height": null,
            "min_height": null,
            "padding": null,
            "grid_auto_rows": null,
            "grid_gap": null,
            "max_width": null,
            "order": null,
            "_view_module_version": "1.2.0",
            "grid_template_areas": null,
            "object_position": null,
            "object_fit": null,
            "grid_auto_columns": null,
            "margin": null,
            "display": null,
            "left": null
          }
        },
        "4f3bb1c7b7a04779be5ae46b18a9f08c": {
          "model_module": "@jupyter-widgets/output",
          "model_name": "OutputModel",
          "state": {
            "_view_name": "OutputView",
            "msg_id": "",
            "_dom_classes": [],
            "_model_name": "OutputModel",
            "outputs": [
              {
                "output_type": "display_data",
                "metadata": {
                  "tags": []
                },
                "image/png": "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\n",
                "text/plain": "<Figure size 400x400 with 2 Axes>"
              }
            ],
            "_view_module": "@jupyter-widgets/output",
            "_model_module_version": "1.0.0",
            "_view_count": null,
            "_view_module_version": "1.0.0",
            "layout": "IPY_MODEL_30609e9f0de4445a8efa31e7b1602f58",
            "_model_module": "@jupyter-widgets/output"
          }
        },
        "30609e9f0de4445a8efa31e7b1602f58": {
          "model_module": "@jupyter-widgets/base",
          "model_name": "LayoutModel",
          "state": {
            "_view_name": "LayoutView",
            "grid_template_rows": null,
            "right": null,
            "justify_content": null,
            "_view_module": "@jupyter-widgets/base",
            "overflow": null,
            "_model_module_version": "1.2.0",
            "_view_count": null,
            "flex_flow": null,
            "width": null,
            "min_width": null,
            "border": null,
            "align_items": null,
            "bottom": null,
            "_model_module": "@jupyter-widgets/base",
            "top": null,
            "grid_column": null,
            "overflow_y": null,
            "overflow_x": null,
            "grid_auto_flow": null,
            "grid_area": null,
            "grid_template_columns": null,
            "flex": null,
            "_model_name": "LayoutModel",
            "justify_items": null,
            "grid_row": null,
            "max_height": null,
            "align_content": null,
            "visibility": null,
            "align_self": null,
            "height": null,
            "min_height": null,
            "padding": null,
            "grid_auto_rows": null,
            "grid_gap": null,
            "max_width": null,
            "order": null,
            "_view_module_version": "1.2.0",
            "grid_template_areas": null,
            "object_position": null,
            "object_fit": null,
            "grid_auto_columns": null,
            "margin": null,
            "display": null,
            "left": null
          }
        },
        "59d34b9c82a04d00bc92f2ab8d97491b": {
          "model_module": "@jupyter-widgets/controls",
          "model_name": "HBoxModel",
          "state": {
            "_view_name": "HBoxView",
            "_dom_classes": [],
            "_model_name": "HBoxModel",
            "_view_module": "@jupyter-widgets/controls",
            "_model_module_version": "1.5.0",
            "_view_count": null,
            "_view_module_version": "1.5.0",
            "box_style": "",
            "layout": "IPY_MODEL_a0e38253095f4c36858edde04d08e14d",
            "_model_module": "@jupyter-widgets/controls",
            "children": [
              "IPY_MODEL_c420a846322c4a6c958604b34f5519a3",
              "IPY_MODEL_d2375b8f042740999f7393d59929498f"
            ]
          }
        },
        "a0e38253095f4c36858edde04d08e14d": {
          "model_module": "@jupyter-widgets/base",
          "model_name": "LayoutModel",
          "state": {
            "_view_name": "LayoutView",
            "grid_template_rows": null,
            "right": null,
            "justify_content": null,
            "_view_module": "@jupyter-widgets/base",
            "overflow": null,
            "_model_module_version": "1.2.0",
            "_view_count": null,
            "flex_flow": null,
            "width": null,
            "min_width": null,
            "border": null,
            "align_items": null,
            "bottom": null,
            "_model_module": "@jupyter-widgets/base",
            "top": null,
            "grid_column": null,
            "overflow_y": null,
            "overflow_x": null,
            "grid_auto_flow": null,
            "grid_area": null,
            "grid_template_columns": null,
            "flex": null,
            "_model_name": "LayoutModel",
            "justify_items": null,
            "grid_row": null,
            "max_height": null,
            "align_content": null,
            "visibility": null,
            "align_self": null,
            "height": null,
            "min_height": null,
            "padding": null,
            "grid_auto_rows": null,
            "grid_gap": null,
            "max_width": null,
            "order": null,
            "_view_module_version": "1.2.0",
            "grid_template_areas": null,
            "object_position": null,
            "object_fit": null,
            "grid_auto_columns": null,
            "margin": null,
            "display": null,
            "left": null
          }
        },
        "c420a846322c4a6c958604b34f5519a3": {
          "model_module": "@jupyter-widgets/controls",
          "model_name": "FloatProgressModel",
          "state": {
            "_view_name": "ProgressView",
            "style": "IPY_MODEL_2f6563bca70e4c77892b69a9295edbfc",
            "_dom_classes": [],
            "description": "100%",
            "_model_name": "FloatProgressModel",
            "bar_style": "success",
            "max": 3,
            "_view_module": "@jupyter-widgets/controls",
            "_model_module_version": "1.5.0",
            "value": 3,
            "_view_count": null,
            "_view_module_version": "1.5.0",
            "orientation": "horizontal",
            "min": 0,
            "description_tooltip": null,
            "_model_module": "@jupyter-widgets/controls",
            "layout": "IPY_MODEL_58e3b92589234acb9b31c9eccbcaf1b7"
          }
        },
        "d2375b8f042740999f7393d59929498f": {
          "model_module": "@jupyter-widgets/controls",
          "model_name": "HTMLModel",
          "state": {
            "_view_name": "HTMLView",
            "style": "IPY_MODEL_4870c147349442029460369415ea5f17",
            "_dom_classes": [],
            "description": "",
            "_model_name": "HTMLModel",
            "placeholder": "​",
            "_view_module": "@jupyter-widgets/controls",
            "_model_module_version": "1.5.0",
            "value": " 3/3 [00:00&lt;00:00,  3.21it/s]",
            "_view_count": null,
            "_view_module_version": "1.5.0",
            "description_tooltip": null,
            "_model_module": "@jupyter-widgets/controls",
            "layout": "IPY_MODEL_9ccddd10facc4449871d635cbff44f31"
          }
        },
        "2f6563bca70e4c77892b69a9295edbfc": {
          "model_module": "@jupyter-widgets/controls",
          "model_name": "ProgressStyleModel",
          "state": {
            "_view_name": "StyleView",
            "_model_name": "ProgressStyleModel",
            "description_width": "initial",
            "_view_module": "@jupyter-widgets/base",
            "_model_module_version": "1.5.0",
            "_view_count": null,
            "_view_module_version": "1.2.0",
            "bar_color": null,
            "_model_module": "@jupyter-widgets/controls"
          }
        },
        "58e3b92589234acb9b31c9eccbcaf1b7": {
          "model_module": "@jupyter-widgets/base",
          "model_name": "LayoutModel",
          "state": {
            "_view_name": "LayoutView",
            "grid_template_rows": null,
            "right": null,
            "justify_content": null,
            "_view_module": "@jupyter-widgets/base",
            "overflow": null,
            "_model_module_version": "1.2.0",
            "_view_count": null,
            "flex_flow": null,
            "width": null,
            "min_width": null,
            "border": null,
            "align_items": null,
            "bottom": null,
            "_model_module": "@jupyter-widgets/base",
            "top": null,
            "grid_column": null,
            "overflow_y": null,
            "overflow_x": null,
            "grid_auto_flow": null,
            "grid_area": null,
            "grid_template_columns": null,
            "flex": null,
            "_model_name": "LayoutModel",
            "justify_items": null,
            "grid_row": null,
            "max_height": null,
            "align_content": null,
            "visibility": null,
            "align_self": null,
            "height": null,
            "min_height": null,
            "padding": null,
            "grid_auto_rows": null,
            "grid_gap": null,
            "max_width": null,
            "order": null,
            "_view_module_version": "1.2.0",
            "grid_template_areas": null,
            "object_position": null,
            "object_fit": null,
            "grid_auto_columns": null,
            "margin": null,
            "display": null,
            "left": null
          }
        },
        "4870c147349442029460369415ea5f17": {
          "model_module": "@jupyter-widgets/controls",
          "model_name": "DescriptionStyleModel",
          "state": {
            "_view_name": "StyleView",
            "_model_name": "DescriptionStyleModel",
            "description_width": "",
            "_view_module": "@jupyter-widgets/base",
            "_model_module_version": "1.5.0",
            "_view_count": null,
            "_view_module_version": "1.2.0",
            "_model_module": "@jupyter-widgets/controls"
          }
        },
        "9ccddd10facc4449871d635cbff44f31": {
          "model_module": "@jupyter-widgets/base",
          "model_name": "LayoutModel",
          "state": {
            "_view_name": "LayoutView",
            "grid_template_rows": null,
            "right": null,
            "justify_content": null,
            "_view_module": "@jupyter-widgets/base",
            "overflow": null,
            "_model_module_version": "1.2.0",
            "_view_count": null,
            "flex_flow": null,
            "width": null,
            "min_width": null,
            "border": null,
            "align_items": null,
            "bottom": null,
            "_model_module": "@jupyter-widgets/base",
            "top": null,
            "grid_column": null,
            "overflow_y": null,
            "overflow_x": null,
            "grid_auto_flow": null,
            "grid_area": null,
            "grid_template_columns": null,
            "flex": null,
            "_model_name": "LayoutModel",
            "justify_items": null,
            "grid_row": null,
            "max_height": null,
            "align_content": null,
            "visibility": null,
            "align_self": null,
            "height": null,
            "min_height": null,
            "padding": null,
            "grid_auto_rows": null,
            "grid_gap": null,
            "max_width": null,
            "order": null,
            "_view_module_version": "1.2.0",
            "grid_template_areas": null,
            "object_position": null,
            "object_fit": null,
            "grid_auto_columns": null,
            "margin": null,
            "display": null,
            "left": null
          }
        },
        "6fc3e8133f934c8db71235ae4b2a280e": {
          "model_module": "@jupyter-widgets/controls",
          "model_name": "HBoxModel",
          "state": {
            "_view_name": "HBoxView",
            "_dom_classes": [],
            "_model_name": "HBoxModel",
            "_view_module": "@jupyter-widgets/controls",
            "_model_module_version": "1.5.0",
            "_view_count": null,
            "_view_module_version": "1.5.0",
            "box_style": "",
            "layout": "IPY_MODEL_edc26afeaf3b408b980bf178c7a6dd1d",
            "_model_module": "@jupyter-widgets/controls",
            "children": [
              "IPY_MODEL_68e61038af824135a452710830a27f2c",
              "IPY_MODEL_65e7f306707446aea73c2e99603a1415"
            ]
          }
        },
        "edc26afeaf3b408b980bf178c7a6dd1d": {
          "model_module": "@jupyter-widgets/base",
          "model_name": "LayoutModel",
          "state": {
            "_view_name": "LayoutView",
            "grid_template_rows": null,
            "right": null,
            "justify_content": null,
            "_view_module": "@jupyter-widgets/base",
            "overflow": null,
            "_model_module_version": "1.2.0",
            "_view_count": null,
            "flex_flow": null,
            "width": null,
            "min_width": null,
            "border": null,
            "align_items": null,
            "bottom": null,
            "_model_module": "@jupyter-widgets/base",
            "top": null,
            "grid_column": null,
            "overflow_y": null,
            "overflow_x": null,
            "grid_auto_flow": null,
            "grid_area": null,
            "grid_template_columns": null,
            "flex": null,
            "_model_name": "LayoutModel",
            "justify_items": null,
            "grid_row": null,
            "max_height": null,
            "align_content": null,
            "visibility": null,
            "align_self": null,
            "height": null,
            "min_height": null,
            "padding": null,
            "grid_auto_rows": null,
            "grid_gap": null,
            "max_width": null,
            "order": null,
            "_view_module_version": "1.2.0",
            "grid_template_areas": null,
            "object_position": null,
            "object_fit": null,
            "grid_auto_columns": null,
            "margin": null,
            "display": null,
            "left": null
          }
        },
        "68e61038af824135a452710830a27f2c": {
          "model_module": "@jupyter-widgets/controls",
          "model_name": "FloatProgressModel",
          "state": {
            "_view_name": "ProgressView",
            "style": "IPY_MODEL_938af9ccd66c4f65ba9c6681b2aed288",
            "_dom_classes": [],
            "description": "100%",
            "_model_name": "FloatProgressModel",
            "bar_style": "success",
            "max": 10,
            "_view_module": "@jupyter-widgets/controls",
            "_model_module_version": "1.5.0",
            "value": 10,
            "_view_count": null,
            "_view_module_version": "1.5.0",
            "orientation": "horizontal",
            "min": 0,
            "description_tooltip": null,
            "_model_module": "@jupyter-widgets/controls",
            "layout": "IPY_MODEL_2c1d270e3b8e4ab4b1910ab9944ee332"
          }
        },
        "65e7f306707446aea73c2e99603a1415": {
          "model_module": "@jupyter-widgets/controls",
          "model_name": "HTMLModel",
          "state": {
            "_view_name": "HTMLView",
            "style": "IPY_MODEL_b093d1a0d1d34082a6d0a2e874f8f528",
            "_dom_classes": [],
            "description": "",
            "_model_name": "HTMLModel",
            "placeholder": "​",
            "_view_module": "@jupyter-widgets/controls",
            "_model_module_version": "1.5.0",
            "value": " 10.0/10.0 [00:02&lt;00:00,  3.57it/s]",
            "_view_count": null,
            "_view_module_version": "1.5.0",
            "description_tooltip": null,
            "_model_module": "@jupyter-widgets/controls",
            "layout": "IPY_MODEL_a2d8e5e0c79a4b50b0622391d0e294aa"
          }
        },
        "938af9ccd66c4f65ba9c6681b2aed288": {
          "model_module": "@jupyter-widgets/controls",
          "model_name": "ProgressStyleModel",
          "state": {
            "_view_name": "StyleView",
            "_model_name": "ProgressStyleModel",
            "description_width": "initial",
            "_view_module": "@jupyter-widgets/base",
            "_model_module_version": "1.5.0",
            "_view_count": null,
            "_view_module_version": "1.2.0",
            "bar_color": null,
            "_model_module": "@jupyter-widgets/controls"
          }
        },
        "2c1d270e3b8e4ab4b1910ab9944ee332": {
          "model_module": "@jupyter-widgets/base",
          "model_name": "LayoutModel",
          "state": {
            "_view_name": "LayoutView",
            "grid_template_rows": null,
            "right": null,
            "justify_content": null,
            "_view_module": "@jupyter-widgets/base",
            "overflow": null,
            "_model_module_version": "1.2.0",
            "_view_count": null,
            "flex_flow": null,
            "width": null,
            "min_width": null,
            "border": null,
            "align_items": null,
            "bottom": null,
            "_model_module": "@jupyter-widgets/base",
            "top": null,
            "grid_column": null,
            "overflow_y": null,
            "overflow_x": null,
            "grid_auto_flow": null,
            "grid_area": null,
            "grid_template_columns": null,
            "flex": null,
            "_model_name": "LayoutModel",
            "justify_items": null,
            "grid_row": null,
            "max_height": null,
            "align_content": null,
            "visibility": null,
            "align_self": null,
            "height": null,
            "min_height": null,
            "padding": null,
            "grid_auto_rows": null,
            "grid_gap": null,
            "max_width": null,
            "order": null,
            "_view_module_version": "1.2.0",
            "grid_template_areas": null,
            "object_position": null,
            "object_fit": null,
            "grid_auto_columns": null,
            "margin": null,
            "display": null,
            "left": null
          }
        },
        "b093d1a0d1d34082a6d0a2e874f8f528": {
          "model_module": "@jupyter-widgets/controls",
          "model_name": "DescriptionStyleModel",
          "state": {
            "_view_name": "StyleView",
            "_model_name": "DescriptionStyleModel",
            "description_width": "",
            "_view_module": "@jupyter-widgets/base",
            "_model_module_version": "1.5.0",
            "_view_count": null,
            "_view_module_version": "1.2.0",
            "_model_module": "@jupyter-widgets/controls"
          }
        },
        "a2d8e5e0c79a4b50b0622391d0e294aa": {
          "model_module": "@jupyter-widgets/base",
          "model_name": "LayoutModel",
          "state": {
            "_view_name": "LayoutView",
            "grid_template_rows": null,
            "right": null,
            "justify_content": null,
            "_view_module": "@jupyter-widgets/base",
            "overflow": null,
            "_model_module_version": "1.2.0",
            "_view_count": null,
            "flex_flow": null,
            "width": null,
            "min_width": null,
            "border": null,
            "align_items": null,
            "bottom": null,
            "_model_module": "@jupyter-widgets/base",
            "top": null,
            "grid_column": null,
            "overflow_y": null,
            "overflow_x": null,
            "grid_auto_flow": null,
            "grid_area": null,
            "grid_template_columns": null,
            "flex": null,
            "_model_name": "LayoutModel",
            "justify_items": null,
            "grid_row": null,
            "max_height": null,
            "align_content": null,
            "visibility": null,
            "align_self": null,
            "height": null,
            "min_height": null,
            "padding": null,
            "grid_auto_rows": null,
            "grid_gap": null,
            "max_width": null,
            "order": null,
            "_view_module_version": "1.2.0",
            "grid_template_areas": null,
            "object_position": null,
            "object_fit": null,
            "grid_auto_columns": null,
            "margin": null,
            "display": null,
            "left": null
          }
        }
      }
    }
  },
  "cells": [
    {
      "cell_type": "markdown",
      "metadata": {
        "id": "view-in-github",
        "colab_type": "text"
      },
      "source": [
        "<a href=\"https://colab.research.google.com/github/Divyanshu-ISM/Oil-and-Gas-data-analysis/blob/master/py_PDE_Solver.ipynb\" target=\"_parent\"><img src=\"https://colab.research.google.com/assets/colab-badge.svg\" alt=\"Open In Colab\"/></a>"
      ]
    },
    {
      "cell_type": "markdown",
      "metadata": {
        "id": "GZcI08w4981N",
        "colab_type": "text"
      },
      "source": [
        "#*Tutorial 1 : Grids and Fields *"
      ]
    },
    {
      "cell_type": "code",
      "metadata": {
        "id": "0525WkFL1WQK",
        "colab_type": "code",
        "colab": {
          "base_uri": "https://localhost:8080/",
          "height": 323
        },
        "outputId": "ce727a88-f5fb-4ade-f488-1d8e4e7ec435"
      },
      "source": [
        "!pip install py-pde"
      ],
      "execution_count": 9,
      "outputs": [
        {
          "output_type": "stream",
          "text": [
            "Collecting py-pde\n",
            "\u001b[?25l  Downloading https://files.pythonhosted.org/packages/e4/64/6620540bdfb2c644ea5525f401744e10846f82e7039f6a6635d0b35efc4d/py_pde-0.9.0-py3-none-any.whl (273kB)\n",
            "\r\u001b[K     |█▏                              | 10kB 21.1MB/s eta 0:00:01\r\u001b[K     |██▍                             | 20kB 2.8MB/s eta 0:00:01\r\u001b[K     |███▋                            | 30kB 3.0MB/s eta 0:00:01\r\u001b[K     |████▉                           | 40kB 3.4MB/s eta 0:00:01\r\u001b[K     |██████                          | 51kB 3.3MB/s eta 0:00:01\r\u001b[K     |███████▏                        | 61kB 3.7MB/s eta 0:00:01\r\u001b[K     |████████▍                       | 71kB 4.0MB/s eta 0:00:01\r\u001b[K     |█████████▋                      | 81kB 4.1MB/s eta 0:00:01\r\u001b[K     |██████████▉                     | 92kB 2.4MB/s eta 0:00:01\r\u001b[K     |████████████                    | 102kB 2.5MB/s eta 0:00:01\r\u001b[K     |█████████████▏                  | 112kB 2.5MB/s eta 0:00:01\r\u001b[K     |██████████████▍                 | 122kB 2.5MB/s eta 0:00:01\r\u001b[K     |███████████████▋                | 133kB 2.5MB/s eta 0:00:01\r\u001b[K     |████████████████▉               | 143kB 2.5MB/s eta 0:00:01\r\u001b[K     |██████████████████              | 153kB 2.5MB/s eta 0:00:01\r\u001b[K     |███████████████████▏            | 163kB 2.5MB/s eta 0:00:01\r\u001b[K     |████████████████████▍           | 174kB 2.5MB/s eta 0:00:01\r\u001b[K     |█████████████████████▋          | 184kB 2.5MB/s eta 0:00:01\r\u001b[K     |██████████████████████▊         | 194kB 2.5MB/s eta 0:00:01\r\u001b[K     |████████████████████████        | 204kB 2.5MB/s eta 0:00:01\r\u001b[K     |█████████████████████████▏      | 215kB 2.5MB/s eta 0:00:01\r\u001b[K     |██████████████████████████▍     | 225kB 2.5MB/s eta 0:00:01\r\u001b[K     |███████████████████████████▋    | 235kB 2.5MB/s eta 0:00:01\r\u001b[K     |████████████████████████████▊   | 245kB 2.5MB/s eta 0:00:01\r\u001b[K     |██████████████████████████████  | 256kB 2.5MB/s eta 0:00:01\r\u001b[K     |███████████████████████████████▏| 266kB 2.5MB/s eta 0:00:01\r\u001b[K     |████████████████████████████████| 276kB 2.5MB/s \n",
            "\u001b[?25hRequirement already satisfied: numpy in /usr/local/lib/python3.6/dist-packages (from py-pde) (1.18.5)\n",
            "Requirement already satisfied: matplotlib in /usr/local/lib/python3.6/dist-packages (from py-pde) (3.2.2)\n",
            "Requirement already satisfied: numba in /usr/local/lib/python3.6/dist-packages (from py-pde) (0.48.0)\n",
            "Requirement already satisfied: sympy in /usr/local/lib/python3.6/dist-packages (from py-pde) (1.1.1)\n",
            "Requirement already satisfied: scipy in /usr/local/lib/python3.6/dist-packages (from py-pde) (1.4.1)\n",
            "Requirement already satisfied: pyparsing!=2.0.4,!=2.1.2,!=2.1.6,>=2.0.1 in /usr/local/lib/python3.6/dist-packages (from matplotlib->py-pde) (2.4.7)\n",
            "Requirement already satisfied: kiwisolver>=1.0.1 in /usr/local/lib/python3.6/dist-packages (from matplotlib->py-pde) (1.2.0)\n",
            "Requirement already satisfied: cycler>=0.10 in /usr/local/lib/python3.6/dist-packages (from matplotlib->py-pde) (0.10.0)\n",
            "Requirement already satisfied: python-dateutil>=2.1 in /usr/local/lib/python3.6/dist-packages (from matplotlib->py-pde) (2.8.1)\n",
            "Requirement already satisfied: setuptools in /usr/local/lib/python3.6/dist-packages (from numba->py-pde) (49.2.0)\n",
            "Requirement already satisfied: llvmlite<0.32.0,>=0.31.0dev0 in /usr/local/lib/python3.6/dist-packages (from numba->py-pde) (0.31.0)\n",
            "Requirement already satisfied: mpmath>=0.19 in /usr/local/lib/python3.6/dist-packages (from sympy->py-pde) (1.1.0)\n",
            "Requirement already satisfied: six in /usr/local/lib/python3.6/dist-packages (from cycler>=0.10->matplotlib->py-pde) (1.15.0)\n",
            "Installing collected packages: py-pde\n",
            "Successfully installed py-pde-0.9.0\n"
          ],
          "name": "stdout"
        }
      ]
    },
    {
      "cell_type": "code",
      "metadata": {
        "id": "95JF_1W61nhB",
        "colab_type": "code",
        "colab": {}
      },
      "source": [
        "from pde import DiffusionPDE, UnitGrid, ScalarField"
      ],
      "execution_count": 10,
      "outputs": []
    },
    {
      "cell_type": "code",
      "metadata": {
        "id": "6sqdwRaE2We4",
        "colab_type": "code",
        "colab": {
          "base_uri": "https://localhost:8080/",
          "height": 241
        },
        "outputId": "f67ed6fb-297b-439c-c5b7-46caaa935481"
      },
      "source": [
        "!pip install h5py pandas pyfftw tqdm"
      ],
      "execution_count": 12,
      "outputs": [
        {
          "output_type": "stream",
          "text": [
            "Requirement already satisfied: h5py in /usr/local/lib/python3.6/dist-packages (2.10.0)\n",
            "Requirement already satisfied: pandas in /usr/local/lib/python3.6/dist-packages (1.0.5)\n",
            "Collecting pyfftw\n",
            "\u001b[?25l  Downloading https://files.pythonhosted.org/packages/dc/77/2a039e2c411b6532ae5b8e5e922d31fdb6140246f92379d9a1dce4872a20/pyFFTW-0.12.0-cp36-cp36m-manylinux1_x86_64.whl (2.6MB)\n",
            "\r\u001b[K     |▏                               | 10kB 20.3MB/s eta 0:00:01\r\u001b[K     |▎                               | 20kB 3.0MB/s eta 0:00:01\r\u001b[K     |▍                               | 30kB 3.9MB/s eta 0:00:01\r\u001b[K     |▌                               | 40kB 4.4MB/s eta 0:00:01\r\u001b[K     |▋                               | 51kB 3.5MB/s eta 0:00:01\r\u001b[K     |▊                               | 61kB 3.9MB/s eta 0:00:01\r\u001b[K     |▉                               | 71kB 4.2MB/s eta 0:00:01\r\u001b[K     |█                               | 81kB 4.5MB/s eta 0:00:01\r\u001b[K     |█▏                              | 92kB 4.9MB/s eta 0:00:01\r\u001b[K     |█▎                              | 102kB 4.7MB/s eta 0:00:01\r\u001b[K     |█▍                              | 112kB 4.7MB/s eta 0:00:01\r\u001b[K     |█▌                              | 122kB 4.7MB/s eta 0:00:01\r\u001b[K     |█▋                              | 133kB 4.7MB/s eta 0:00:01\r\u001b[K     |█▊                              | 143kB 4.7MB/s eta 0:00:01\r\u001b[K     |█▉                              | 153kB 4.7MB/s eta 0:00:01\r\u001b[K     |██                              | 163kB 4.7MB/s eta 0:00:01\r\u001b[K     |██▏                             | 174kB 4.7MB/s eta 0:00:01\r\u001b[K     |██▎                             | 184kB 4.7MB/s eta 0:00:01\r\u001b[K     |██▍                             | 194kB 4.7MB/s eta 0:00:01\r\u001b[K     |██▌                             | 204kB 4.7MB/s eta 0:00:01\r\u001b[K     |██▋                             | 215kB 4.7MB/s eta 0:00:01\r\u001b[K     |██▊                             | 225kB 4.7MB/s eta 0:00:01\r\u001b[K     |███                             | 235kB 4.7MB/s eta 0:00:01\r\u001b[K     |███                             | 245kB 4.7MB/s eta 0:00:01\r\u001b[K     |███▏                            | 256kB 4.7MB/s eta 0:00:01\r\u001b[K     |███▎                            | 266kB 4.7MB/s eta 0:00:01\r\u001b[K     |███▍                            | 276kB 4.7MB/s eta 0:00:01\r\u001b[K     |███▌                            | 286kB 4.7MB/s eta 0:00:01\r\u001b[K     |███▋                            | 296kB 4.7MB/s eta 0:00:01\r\u001b[K     |███▊                            | 307kB 4.7MB/s eta 0:00:01\r\u001b[K     |████                            | 317kB 4.7MB/s eta 0:00:01\r\u001b[K     |████                            | 327kB 4.7MB/s eta 0:00:01\r\u001b[K     |████▏                           | 337kB 4.7MB/s eta 0:00:01\r\u001b[K     |████▎                           | 348kB 4.7MB/s eta 0:00:01\r\u001b[K     |████▍                           | 358kB 4.7MB/s eta 0:00:01\r\u001b[K     |████▌                           | 368kB 4.7MB/s eta 0:00:01\r\u001b[K     |████▋                           | 378kB 4.7MB/s eta 0:00:01\r\u001b[K     |████▊                           | 389kB 4.7MB/s eta 0:00:01\r\u001b[K     |█████                           | 399kB 4.7MB/s eta 0:00:01\r\u001b[K     |█████                           | 409kB 4.7MB/s eta 0:00:01\r\u001b[K     |█████▏                          | 419kB 4.7MB/s eta 0:00:01\r\u001b[K     |█████▎                          | 430kB 4.7MB/s eta 0:00:01\r\u001b[K     |█████▍                          | 440kB 4.7MB/s eta 0:00:01\r\u001b[K     |█████▌                          | 450kB 4.7MB/s eta 0:00:01\r\u001b[K     |█████▋                          | 460kB 4.7MB/s eta 0:00:01\r\u001b[K     |█████▉                          | 471kB 4.7MB/s eta 0:00:01\r\u001b[K     |██████                          | 481kB 4.7MB/s eta 0:00:01\r\u001b[K     |██████                          | 491kB 4.7MB/s eta 0:00:01\r\u001b[K     |██████▏                         | 501kB 4.7MB/s eta 0:00:01\r\u001b[K     |██████▎                         | 512kB 4.7MB/s eta 0:00:01\r\u001b[K     |██████▍                         | 522kB 4.7MB/s eta 0:00:01\r\u001b[K     |██████▌                         | 532kB 4.7MB/s eta 0:00:01\r\u001b[K     |██████▋                         | 542kB 4.7MB/s eta 0:00:01\r\u001b[K     |██████▉                         | 552kB 4.7MB/s eta 0:00:01\r\u001b[K     |███████                         | 563kB 4.7MB/s eta 0:00:01\r\u001b[K     |███████                         | 573kB 4.7MB/s eta 0:00:01\r\u001b[K     |███████▏                        | 583kB 4.7MB/s eta 0:00:01\r\u001b[K     |███████▎                        | 593kB 4.7MB/s eta 0:00:01\r\u001b[K     |███████▍                        | 604kB 4.7MB/s eta 0:00:01\r\u001b[K     |███████▌                        | 614kB 4.7MB/s eta 0:00:01\r\u001b[K     |███████▊                        | 624kB 4.7MB/s eta 0:00:01\r\u001b[K     |███████▉                        | 634kB 4.7MB/s eta 0:00:01\r\u001b[K     |████████                        | 645kB 4.7MB/s eta 0:00:01\r\u001b[K     |████████                        | 655kB 4.7MB/s eta 0:00:01\r\u001b[K     |████████▏                       | 665kB 4.7MB/s eta 0:00:01\r\u001b[K     |████████▎                       | 675kB 4.7MB/s eta 0:00:01\r\u001b[K     |████████▍                       | 686kB 4.7MB/s eta 0:00:01\r\u001b[K     |████████▌                       | 696kB 4.7MB/s eta 0:00:01\r\u001b[K     |████████▊                       | 706kB 4.7MB/s eta 0:00:01\r\u001b[K     |████████▉                       | 716kB 4.7MB/s eta 0:00:01\r\u001b[K     |█████████                       | 727kB 4.7MB/s eta 0:00:01\r\u001b[K     |█████████                       | 737kB 4.7MB/s eta 0:00:01\r\u001b[K     |█████████▏                      | 747kB 4.7MB/s eta 0:00:01\r\u001b[K     |█████████▎                      | 757kB 4.7MB/s eta 0:00:01\r\u001b[K     |█████████▍                      | 768kB 4.7MB/s eta 0:00:01\r\u001b[K     |█████████▌                      | 778kB 4.7MB/s eta 0:00:01\r\u001b[K     |█████████▊                      | 788kB 4.7MB/s eta 0:00:01\r\u001b[K     |█████████▉                      | 798kB 4.7MB/s eta 0:00:01\r\u001b[K     |██████████                      | 808kB 4.7MB/s eta 0:00:01\r\u001b[K     |██████████                      | 819kB 4.7MB/s eta 0:00:01\r\u001b[K     |██████████▏                     | 829kB 4.7MB/s eta 0:00:01\r\u001b[K     |██████████▎                     | 839kB 4.7MB/s eta 0:00:01\r\u001b[K     |██████████▍                     | 849kB 4.7MB/s eta 0:00:01\r\u001b[K     |██████████▋                     | 860kB 4.7MB/s eta 0:00:01\r\u001b[K     |██████████▊                     | 870kB 4.7MB/s eta 0:00:01\r\u001b[K     |██████████▉                     | 880kB 4.7MB/s eta 0:00:01\r\u001b[K     |███████████                     | 890kB 4.7MB/s eta 0:00:01\r\u001b[K     |███████████                     | 901kB 4.7MB/s eta 0:00:01\r\u001b[K     |███████████▏                    | 911kB 4.7MB/s eta 0:00:01\r\u001b[K     |███████████▎                    | 921kB 4.7MB/s eta 0:00:01\r\u001b[K     |███████████▍                    | 931kB 4.7MB/s eta 0:00:01\r\u001b[K     |███████████▋                    | 942kB 4.7MB/s eta 0:00:01\r\u001b[K     |███████████▊                    | 952kB 4.7MB/s eta 0:00:01\r\u001b[K     |███████████▉                    | 962kB 4.7MB/s eta 0:00:01\r\u001b[K     |████████████                    | 972kB 4.7MB/s eta 0:00:01\r\u001b[K     |████████████                    | 983kB 4.7MB/s eta 0:00:01\r\u001b[K     |████████████▏                   | 993kB 4.7MB/s eta 0:00:01\r\u001b[K     |████████████▎                   | 1.0MB 4.7MB/s eta 0:00:01\r\u001b[K     |████████████▌                   | 1.0MB 4.7MB/s eta 0:00:01\r\u001b[K     |████████████▋                   | 1.0MB 4.7MB/s eta 0:00:01\r\u001b[K     |████████████▊                   | 1.0MB 4.7MB/s eta 0:00:01\r\u001b[K     |████████████▉                   | 1.0MB 4.7MB/s eta 0:00:01\r\u001b[K     |█████████████                   | 1.1MB 4.7MB/s eta 0:00:01\r\u001b[K     |█████████████                   | 1.1MB 4.7MB/s eta 0:00:01\r\u001b[K     |█████████████▏                  | 1.1MB 4.7MB/s eta 0:00:01\r\u001b[K     |█████████████▎                  | 1.1MB 4.7MB/s eta 0:00:01\r\u001b[K     |█████████████▌                  | 1.1MB 4.7MB/s eta 0:00:01\r\u001b[K     |█████████████▋                  | 1.1MB 4.7MB/s eta 0:00:01\r\u001b[K     |█████████████▊                  | 1.1MB 4.7MB/s eta 0:00:01\r\u001b[K     |█████████████▉                  | 1.1MB 4.7MB/s eta 0:00:01\r\u001b[K     |██████████████                  | 1.1MB 4.7MB/s eta 0:00:01\r\u001b[K     |██████████████                  | 1.1MB 4.7MB/s eta 0:00:01\r\u001b[K     |██████████████▏                 | 1.2MB 4.7MB/s eta 0:00:01\r\u001b[K     |██████████████▎                 | 1.2MB 4.7MB/s eta 0:00:01\r\u001b[K     |██████████████▌                 | 1.2MB 4.7MB/s eta 0:00:01\r\u001b[K     |██████████████▋                 | 1.2MB 4.7MB/s eta 0:00:01\r\u001b[K     |██████████████▊                 | 1.2MB 4.7MB/s eta 0:00:01\r\u001b[K     |██████████████▉                 | 1.2MB 4.7MB/s eta 0:00:01\r\u001b[K     |███████████████                 | 1.2MB 4.7MB/s eta 0:00:01\r\u001b[K     |███████████████                 | 1.2MB 4.7MB/s eta 0:00:01\r\u001b[K     |███████████████▏                | 1.2MB 4.7MB/s eta 0:00:01\r\u001b[K     |███████████████▍                | 1.2MB 4.7MB/s eta 0:00:01\r\u001b[K     |███████████████▌                | 1.3MB 4.7MB/s eta 0:00:01\r\u001b[K     |███████████████▋                | 1.3MB 4.7MB/s eta 0:00:01\r\u001b[K     |███████████████▊                | 1.3MB 4.7MB/s eta 0:00:01\r\u001b[K     |███████████████▉                | 1.3MB 4.7MB/s eta 0:00:01\r\u001b[K     |████████████████                | 1.3MB 4.7MB/s eta 0:00:01\r\u001b[K     |████████████████                | 1.3MB 4.7MB/s eta 0:00:01\r\u001b[K     |████████████████▏               | 1.3MB 4.7MB/s eta 0:00:01\r\u001b[K     |████████████████▍               | 1.3MB 4.7MB/s eta 0:00:01\r\u001b[K     |████████████████▌               | 1.3MB 4.7MB/s eta 0:00:01\r\u001b[K     |████████████████▋               | 1.4MB 4.7MB/s eta 0:00:01\r\u001b[K     |████████████████▊               | 1.4MB 4.7MB/s eta 0:00:01\r\u001b[K     |████████████████▉               | 1.4MB 4.7MB/s eta 0:00:01\r\u001b[K     |█████████████████               | 1.4MB 4.7MB/s eta 0:00:01\r\u001b[K     |█████████████████               | 1.4MB 4.7MB/s eta 0:00:01\r\u001b[K     |█████████████████▏              | 1.4MB 4.7MB/s eta 0:00:01\r\u001b[K     |█████████████████▍              | 1.4MB 4.7MB/s eta 0:00:01\r\u001b[K     |█████████████████▌              | 1.4MB 4.7MB/s eta 0:00:01\r\u001b[K     |█████████████████▋              | 1.4MB 4.7MB/s eta 0:00:01\r\u001b[K     |█████████████████▊              | 1.4MB 4.7MB/s eta 0:00:01\r\u001b[K     |█████████████████▉              | 1.5MB 4.7MB/s eta 0:00:01\r\u001b[K     |██████████████████              | 1.5MB 4.7MB/s eta 0:00:01\r\u001b[K     |██████████████████              | 1.5MB 4.7MB/s eta 0:00:01\r\u001b[K     |██████████████████▎             | 1.5MB 4.7MB/s eta 0:00:01\r\u001b[K     |██████████████████▍             | 1.5MB 4.7MB/s eta 0:00:01\r\u001b[K     |██████████████████▌             | 1.5MB 4.7MB/s eta 0:00:01\r\u001b[K     |██████████████████▋             | 1.5MB 4.7MB/s eta 0:00:01\r\u001b[K     |██████████████████▊             | 1.5MB 4.7MB/s eta 0:00:01\r\u001b[K     |██████████████████▉             | 1.5MB 4.7MB/s eta 0:00:01\r\u001b[K     |███████████████████             | 1.5MB 4.7MB/s eta 0:00:01\r\u001b[K     |███████████████████             | 1.6MB 4.7MB/s eta 0:00:01\r\u001b[K     |███████████████████▎            | 1.6MB 4.7MB/s eta 0:00:01\r\u001b[K     |███████████████████▍            | 1.6MB 4.7MB/s eta 0:00:01\r\u001b[K     |███████████████████▌            | 1.6MB 4.7MB/s eta 0:00:01\r\u001b[K     |███████████████████▋            | 1.6MB 4.7MB/s eta 0:00:01\r\u001b[K     |███████████████████▊            | 1.6MB 4.7MB/s eta 0:00:01\r\u001b[K     |███████████████████▉            | 1.6MB 4.7MB/s eta 0:00:01\r\u001b[K     |████████████████████            | 1.6MB 4.7MB/s eta 0:00:01\r\u001b[K     |████████████████████▏           | 1.6MB 4.7MB/s eta 0:00:01\r\u001b[K     |████████████████████▎           | 1.6MB 4.7MB/s eta 0:00:01\r\u001b[K     |████████████████████▍           | 1.7MB 4.7MB/s eta 0:00:01\r\u001b[K     |████████████████████▌           | 1.7MB 4.7MB/s eta 0:00:01\r\u001b[K     |████████████████████▋           | 1.7MB 4.7MB/s eta 0:00:01\r\u001b[K     |████████████████████▊           | 1.7MB 4.7MB/s eta 0:00:01\r\u001b[K     |████████████████████▉           | 1.7MB 4.7MB/s eta 0:00:01\r\u001b[K     |█████████████████████           | 1.7MB 4.7MB/s eta 0:00:01\r\u001b[K     |█████████████████████▏          | 1.7MB 4.7MB/s eta 0:00:01\r\u001b[K     |█████████████████████▎          | 1.7MB 4.7MB/s eta 0:00:01\r\u001b[K     |█████████████████████▍          | 1.7MB 4.7MB/s eta 0:00:01\r\u001b[K     |█████████████████████▌          | 1.8MB 4.7MB/s eta 0:00:01\r\u001b[K     |█████████████████████▋          | 1.8MB 4.7MB/s eta 0:00:01\r\u001b[K     |█████████████████████▊          | 1.8MB 4.7MB/s eta 0:00:01\r\u001b[K     |█████████████████████▉          | 1.8MB 4.7MB/s eta 0:00:01\r\u001b[K     |██████████████████████          | 1.8MB 4.7MB/s eta 0:00:01\r\u001b[K     |██████████████████████▏         | 1.8MB 4.7MB/s eta 0:00:01\r\u001b[K     |██████████████████████▎         | 1.8MB 4.7MB/s eta 0:00:01\r\u001b[K     |██████████████████████▍         | 1.8MB 4.7MB/s eta 0:00:01\r\u001b[K     |██████████████████████▌         | 1.8MB 4.7MB/s eta 0:00:01\r\u001b[K     |██████████████████████▋         | 1.8MB 4.7MB/s eta 0:00:01\r\u001b[K     |██████████████████████▊         | 1.9MB 4.7MB/s eta 0:00:01\r\u001b[K     |██████████████████████▉         | 1.9MB 4.7MB/s eta 0:00:01\r\u001b[K     |███████████████████████         | 1.9MB 4.7MB/s eta 0:00:01\r\u001b[K     |███████████████████████▏        | 1.9MB 4.7MB/s eta 0:00:01\r\u001b[K     |███████████████████████▎        | 1.9MB 4.7MB/s eta 0:00:01\r\u001b[K     |███████████████████████▍        | 1.9MB 4.7MB/s eta 0:00:01\r\u001b[K     |███████████████████████▌        | 1.9MB 4.7MB/s eta 0:00:01\r\u001b[K     |███████████████████████▋        | 1.9MB 4.7MB/s eta 0:00:01\r\u001b[K     |███████████████████████▊        | 1.9MB 4.7MB/s eta 0:00:01\r\u001b[K     |███████████████████████▉        | 1.9MB 4.7MB/s eta 0:00:01\r\u001b[K     |████████████████████████        | 2.0MB 4.7MB/s eta 0:00:01\r\u001b[K     |████████████████████████▏       | 2.0MB 4.7MB/s eta 0:00:01\r\u001b[K     |████████████████████████▎       | 2.0MB 4.7MB/s eta 0:00:01\r\u001b[K     |████████████████████████▍       | 2.0MB 4.7MB/s eta 0:00:01\r\u001b[K     |████████████████████████▌       | 2.0MB 4.7MB/s eta 0:00:01\r\u001b[K     |████████████████████████▋       | 2.0MB 4.7MB/s eta 0:00:01\r\u001b[K     |████████████████████████▊       | 2.0MB 4.7MB/s eta 0:00:01\r\u001b[K     |█████████████████████████       | 2.0MB 4.7MB/s eta 0:00:01\r\u001b[K     |█████████████████████████       | 2.0MB 4.7MB/s eta 0:00:01\r\u001b[K     |█████████████████████████▏      | 2.0MB 4.7MB/s eta 0:00:01\r\u001b[K     |█████████████████████████▎      | 2.1MB 4.7MB/s eta 0:00:01\r\u001b[K     |█████████████████████████▍      | 2.1MB 4.7MB/s eta 0:00:01\r\u001b[K     |█████████████████████████▌      | 2.1MB 4.7MB/s eta 0:00:01\r\u001b[K     |█████████████████████████▋      | 2.1MB 4.7MB/s eta 0:00:01\r\u001b[K     |█████████████████████████▊      | 2.1MB 4.7MB/s eta 0:00:01\r\u001b[K     |██████████████████████████      | 2.1MB 4.7MB/s eta 0:00:01\r\u001b[K     |██████████████████████████      | 2.1MB 4.7MB/s eta 0:00:01\r\u001b[K     |██████████████████████████▏     | 2.1MB 4.7MB/s eta 0:00:01\r\u001b[K     |██████████████████████████▎     | 2.1MB 4.7MB/s eta 0:00:01\r\u001b[K     |██████████████████████████▍     | 2.2MB 4.7MB/s eta 0:00:01\r\u001b[K     |██████████████████████████▌     | 2.2MB 4.7MB/s eta 0:00:01\r\u001b[K     |██████████████████████████▋     | 2.2MB 4.7MB/s eta 0:00:01\r\u001b[K     |██████████████████████████▊     | 2.2MB 4.7MB/s eta 0:00:01\r\u001b[K     |███████████████████████████     | 2.2MB 4.7MB/s eta 0:00:01\r\u001b[K     |███████████████████████████     | 2.2MB 4.7MB/s eta 0:00:01\r\u001b[K     |███████████████████████████▏    | 2.2MB 4.7MB/s eta 0:00:01\r\u001b[K     |███████████████████████████▎    | 2.2MB 4.7MB/s eta 0:00:01\r\u001b[K     |███████████████████████████▍    | 2.2MB 4.7MB/s eta 0:00:01\r\u001b[K     |███████████████████████████▌    | 2.2MB 4.7MB/s eta 0:00:01\r\u001b[K     |███████████████████████████▋    | 2.3MB 4.7MB/s eta 0:00:01\r\u001b[K     |███████████████████████████▉    | 2.3MB 4.7MB/s eta 0:00:01\r\u001b[K     |████████████████████████████    | 2.3MB 4.7MB/s eta 0:00:01\r\u001b[K     |████████████████████████████    | 2.3MB 4.7MB/s eta 0:00:01\r\u001b[K     |████████████████████████████▏   | 2.3MB 4.7MB/s eta 0:00:01\r\u001b[K     |████████████████████████████▎   | 2.3MB 4.7MB/s eta 0:00:01\r\u001b[K     |████████████████████████████▍   | 2.3MB 4.7MB/s eta 0:00:01\r\u001b[K     |████████████████████████████▌   | 2.3MB 4.7MB/s eta 0:00:01\r\u001b[K     |████████████████████████████▋   | 2.3MB 4.7MB/s eta 0:00:01\r\u001b[K     |████████████████████████████▉   | 2.3MB 4.7MB/s eta 0:00:01\r\u001b[K     |█████████████████████████████   | 2.4MB 4.7MB/s eta 0:00:01\r\u001b[K     |█████████████████████████████   | 2.4MB 4.7MB/s eta 0:00:01\r\u001b[K     |█████████████████████████████▏  | 2.4MB 4.7MB/s eta 0:00:01\r\u001b[K     |█████████████████████████████▎  | 2.4MB 4.7MB/s eta 0:00:01\r\u001b[K     |█████████████████████████████▍  | 2.4MB 4.7MB/s eta 0:00:01\r\u001b[K     |█████████████████████████████▌  | 2.4MB 4.7MB/s eta 0:00:01\r\u001b[K     |█████████████████████████████▊  | 2.4MB 4.7MB/s eta 0:00:01\r\u001b[K     |█████████████████████████████▉  | 2.4MB 4.7MB/s eta 0:00:01\r\u001b[K     |██████████████████████████████  | 2.4MB 4.7MB/s eta 0:00:01\r\u001b[K     |██████████████████████████████  | 2.4MB 4.7MB/s eta 0:00:01\r\u001b[K     |██████████████████████████████▏ | 2.5MB 4.7MB/s eta 0:00:01\r\u001b[K     |██████████████████████████████▎ | 2.5MB 4.7MB/s eta 0:00:01\r\u001b[K     |██████████████████████████████▍ | 2.5MB 4.7MB/s eta 0:00:01\r\u001b[K     |██████████████████████████████▌ | 2.5MB 4.7MB/s eta 0:00:01\r\u001b[K     |██████████████████████████████▊ | 2.5MB 4.7MB/s eta 0:00:01\r\u001b[K     |██████████████████████████████▉ | 2.5MB 4.7MB/s eta 0:00:01\r\u001b[K     |███████████████████████████████ | 2.5MB 4.7MB/s eta 0:00:01\r\u001b[K     |███████████████████████████████ | 2.5MB 4.7MB/s eta 0:00:01\r\u001b[K     |███████████████████████████████▏| 2.5MB 4.7MB/s eta 0:00:01\r\u001b[K     |███████████████████████████████▎| 2.5MB 4.7MB/s eta 0:00:01\r\u001b[K     |███████████████████████████████▍| 2.6MB 4.7MB/s eta 0:00:01\r\u001b[K     |███████████████████████████████▌| 2.6MB 4.7MB/s eta 0:00:01\r\u001b[K     |███████████████████████████████▊| 2.6MB 4.7MB/s eta 0:00:01\r\u001b[K     |███████████████████████████████▉| 2.6MB 4.7MB/s eta 0:00:01\r\u001b[K     |████████████████████████████████| 2.6MB 4.7MB/s eta 0:00:01\r\u001b[K     |████████████████████████████████| 2.6MB 4.7MB/s \n",
            "\u001b[?25hRequirement already satisfied: tqdm in /usr/local/lib/python3.6/dist-packages (4.41.1)\n",
            "Requirement already satisfied: numpy>=1.7 in /usr/local/lib/python3.6/dist-packages (from h5py) (1.18.5)\n",
            "Requirement already satisfied: six in /usr/local/lib/python3.6/dist-packages (from h5py) (1.15.0)\n",
            "Requirement already satisfied: pytz>=2017.2 in /usr/local/lib/python3.6/dist-packages (from pandas) (2018.9)\n",
            "Requirement already satisfied: python-dateutil>=2.6.1 in /usr/local/lib/python3.6/dist-packages (from pandas) (2.8.1)\n",
            "Installing collected packages: pyfftw\n",
            "Successfully installed pyfftw-0.12.0\n"
          ],
          "name": "stdout"
        }
      ]
    },
    {
      "cell_type": "code",
      "metadata": {
        "id": "YhqLEM5F1GqO",
        "colab_type": "code",
        "colab": {}
      },
      "source": [
        "from pde import *\n",
        "import numpy as np\n",
        "import scipy\n",
        "import matplotlib.pyplot as plt\n",
        "%matplotlib inline"
      ],
      "execution_count": 13,
      "outputs": []
    },
    {
      "cell_type": "code",
      "metadata": {
        "id": "Sk-anTle1Tva",
        "colab_type": "code",
        "colab": {
          "base_uri": "https://localhost:8080/",
          "height": 515,
          "referenced_widgets": [
            "28aa71ffbed140c0849350513dd7e624",
            "5ce7327bd51d40e696f21072fa1d7781",
            "1660a5b39d834c8eb487e9de17116814",
            "08535d6d52ab4fe6a3080e8920a1064a",
            "51702347c7d24319b0de88b8ac1e76b7",
            "d910afe1e97e457d887579d99fd8a7aa",
            "38cd2547730a44b8acdfa5c01ea59007",
            "077aac69b2444d338c06e6c7e2583a30"
          ]
        },
        "outputId": "a26b0120-2dd3-4b85-f8fd-34259c4ceb7b"
      },
      "source": [
        "plt.style.use('default')\n",
        "eq = DiffusionPDE(diffusivity=0.1)                  # define the pde\n",
        "grid = UnitGrid([64, 64])                           # generate grid\n",
        "state = ScalarField.random_uniform(grid, 0.2, 0.3)  # generate initial condition\n",
        "\n",
        "result = eq.solve(state, t_range=10)\n",
        "result.plot()"
      ],
      "execution_count": 17,
      "outputs": [
        {
          "output_type": "display_data",
          "data": {
            "application/vnd.jupyter.widget-view+json": {
              "model_id": "28aa71ffbed140c0849350513dd7e624",
              "version_minor": 0,
              "version_major": 2
            },
            "text/plain": [
              "HBox(children=(FloatProgress(value=0.0, max=10.0), HTML(value='')))"
            ]
          },
          "metadata": {
            "tags": []
          }
        },
        {
          "output_type": "stream",
          "text": [
            "\n"
          ],
          "name": "stdout"
        },
        {
          "output_type": "display_data",
          "data": {
            "image/png": "[encoded data removed]",
            "text/plain": [
              "<Figure size 640x480 with 1 Axes>"
            ]
          },
          "metadata": {
            "tags": []
          }
        },
        {
          "output_type": "execute_result",
          "data": {
            "text/plain": [
              "<pde.tools.plotting.PlotReference at 0x7efd952c1f08>"
            ]
          },
          "metadata": {
            "tags": []
          },
          "execution_count": 17
        }
      ]
    },
    {
      "cell_type": "code",
      "metadata": {
        "id": "ePWVkH3U2hd8",
        "colab_type": "code",
        "colab": {
          "base_uri": "https://localhost:8080/",
          "height": 34
        },
        "outputId": "b2e81efb-53e4-4127-cb29-fc2bbbdd0a50"
      },
      "source": [
        "result.data.shape"
      ],
      "execution_count": 19,
      "outputs": [
        {
          "output_type": "execute_result",
          "data": {
            "text/plain": [
              "(64, 64)"
            ]
          },
          "metadata": {
            "tags": []
          },
          "execution_count": 19
        }
      ]
    },
    {
      "cell_type": "code",
      "metadata": {
        "id": "Udbj1olm28mJ",
        "colab_type": "code",
        "colab": {}
      },
      "source": [
        "# plt.plot(result.data[0], result.data[1])\n",
        "# plt.show()"
      ],
      "execution_count": 23,
      "outputs": []
    },
    {
      "cell_type": "code",
      "metadata": {
        "id": "UXw7R8HJ4PmO",
        "colab_type": "code",
        "colab": {}
      },
      "source": [
        ""
      ],
      "execution_count": null,
      "outputs": []
    },
    {
      "cell_type": "markdown",
      "metadata": {
        "id": "4rHxWqTF4QN1",
        "colab_type": "text"
      },
      "source": [
        "#Showing the Dynamic Diffusion History."
      ]
    },
    {
      "cell_type": "code",
      "metadata": {
        "id": "3av_xy843f_w",
        "colab_type": "code",
        "colab": {
          "base_uri": "https://localhost:8080/",
          "height": 1000,
          "referenced_widgets": [
            "f543614b4484425dbe123d97f8c300db",
            "7d3cc6f6e93046128b1bfbae4acd0caa",
            "703eff7787a84417a74d75bf69dd86ae",
            "bb0a07b151d641bb9f992b347a763fbf",
            "7f369f5378134eb88731311a8b1ddb60",
            "b7006184832a4f78a16dcd477ce9388e",
            "394d23cac08b4486b531fdb8ce9019ab",
            "a0b7461f1c1e4ca69177f07676771bf7",
            "5c97aa33625947e882eb140bef19a2bc",
            "e096f55d40e14bd1a6aab876db69a9e0"
          ]
        },
        "outputId": "42cea715-fd29-40d5-baf1-570266cf2e2a"
      },
      "source": [
        "eq = DiffusionPDE()                                 # define the pde\n",
        "grid = UnitGrid([16, 16])                           # generate grid\n",
        "state = ScalarField.random_uniform(grid, 0.2, 0.3)  # generate initial condition\n",
        "\n",
        "storage = MemoryStorage()\n",
        "\n",
        "trackers = [\n",
        "    'progress',                    # show progress bar during simulation\n",
        "    'steady_state',                # abort when steady state is reached\n",
        "    storage.tracker(interval=1),   # store data every simulation time unit\n",
        "    PlotTracker(show=True),        # show images during simulation\n",
        "    # print some output every 5 real seconds:\n",
        "    PrintTracker(interval=RealtimeIntervals(duration=5))\n",
        "\n",
        "]\n",
        "\n",
        "eq.solve(state, 10, dt=0.1, tracker=trackers)\n",
        "\n",
        "storage[0].plot(colorbar=True)"
      ],
      "execution_count": 28,
      "outputs": [
        {
          "output_type": "display_data",
          "data": {
            "application/vnd.jupyter.widget-view+json": {
              "model_id": "f543614b4484425dbe123d97f8c300db",
              "version_minor": 0,
              "version_major": 2
            },
            "text/plain": [
              "HBox(children=(FloatProgress(value=0.0, max=10.0), HTML(value='')))"
            ]
          },
          "metadata": {
            "tags": []
          }
        },
        {
          "output_type": "display_data",
          "data": {
            "application/vnd.jupyter.widget-view+json": {
              "model_id": "5c97aa33625947e882eb140bef19a2bc",
              "version_minor": 0,
              "version_major": 2
            },
            "text/plain": [
              "Output()"
            ]
          },
          "metadata": {
            "tags": []
          }
        },
        {
          "output_type": "stream",
          "text": [
            "t=0, c=0.25±0.03\n",
            "t=0.1, c=0.25±0.0193\n",
            "t=0.2, c=0.25±0.0147\n",
            "t=0.3, c=0.25±0.0122\n",
            "t=6.8, c=0.25±0.00215\n"
          ],
          "name": "stdout"
        },
        {
          "output_type": "stream",
          "text": [
            "Spent more time on handling trackers (1.8750587839999966) than on the actual simulation (0.9911026020000016)\n"
          ],
          "name": "stderr"
        },
        {
          "output_type": "stream",
          "text": [
            "\n"
          ],
          "name": "stdout"
        },
        {
          "output_type": "display_data",
          "data": {
            "image/png": "[encoded data removed]",
            "text/plain": [
              "<Figure size 640x480 with 2 Axes>"
            ]
          },
          "metadata": {
            "tags": []
          }
        },
        {
          "output_type": "execute_result",
          "data": {
            "text/plain": [
              "<pde.tools.plotting.PlotReference at 0x7efd9258d388>"
            ]
          },
          "metadata": {
            "tags": []
          },
          "execution_count": 28
        }
      ]
    },
    {
      "cell_type": "code",
      "metadata": {
        "id": "x5Q87ASA4-22",
        "colab_type": "code",
        "colab": {}
      },
      "source": [
        ""
      ],
      "execution_count": null,
      "outputs": []
    },
    {
      "cell_type": "markdown",
      "metadata": {
        "id": "1DbxenIf5A2n",
        "colab_type": "text"
      },
      "source": [
        "#Setting a Boundary Condition."
      ]
    },
    {
      "cell_type": "code",
      "metadata": {
        "id": "ul0Y94DY4CHT",
        "colab_type": "code",
        "colab": {
          "base_uri": "https://localhost:8080/",
          "height": 521,
          "referenced_widgets": [
            "33515f23ed3943a1a0d720d201d0a54e",
            "2960dbca43d14f938b747fd64deb6509",
            "6fb6e9b1604e4b71ab87f8db4002cfec",
            "9ce9c321e0944cbe921c90715c0e9c95",
            "6e820978d8e04f078d9ef47d7903479b",
            "0b723d0e19074e56a5eea934d96548a1",
            "b4fd1b2cb3b341079762a8d297ebb5f0",
            "6756de83e25e42639ba39cd262c0131c"
          ]
        },
        "outputId": "389c20a8-3f1d-4153-856d-a5e3feef1d5f"
      },
      "source": [
        "grid = UnitGrid([16, 16], periodic=[False, True])   # generate grid\n",
        "state = ScalarField.random_uniform(grid, 0.2, 0.3)  # generate initial condition\n",
        "\n",
        "# set boundary conditions `bc` for all axes\n",
        "bc_x_left = {'type': 'derivative', 'value': 0.1}\n",
        "bc_x_right = {'type': 'value', 'value': 0}\n",
        "bc_x = [bc_x_left, bc_x_right]\n",
        "bc_y = 'periodic'\n",
        "eq = DiffusionPDE(bc=[bc_x, bc_y])\n",
        "\n",
        "result = eq.solve(state, t_range=10, dt=0.005)\n",
        "result.plot(colorbar=True)"
      ],
      "execution_count": 27,
      "outputs": [
        {
          "output_type": "display_data",
          "data": {
            "application/vnd.jupyter.widget-view+json": {
              "model_id": "33515f23ed3943a1a0d720d201d0a54e",
              "version_minor": 0,
              "version_major": 2
            },
            "text/plain": [
              "HBox(children=(FloatProgress(value=0.0, max=10.0), HTML(value='')))"
            ]
          },
          "metadata": {
            "tags": []
          }
        },
        {
          "output_type": "stream",
          "text": [
            "\n"
          ],
          "name": "stdout"
        },
        {
          "output_type": "display_data",
          "data": {
            "image/png": "[encoded data removed]",
            "text/plain": [
              "<Figure size 640x480 with 2 Axes>"
            ]
          },
          "metadata": {
            "tags": []
          }
        },
        {
          "output_type": "execute_result",
          "data": {
            "text/plain": [
              "<pde.tools.plotting.PlotReference at 0x7efd952c6f88>"
            ]
          },
          "metadata": {
            "tags": []
          },
          "execution_count": 27
        }
      ]
    },
    {
      "cell_type": "markdown",
      "metadata": {
        "id": "YM2e4spw5EUr",
        "colab_type": "text"
      },
      "source": [
        "# Making a movie."
      ]
    },
    {
      "cell_type": "code",
      "metadata": {
        "id": "mJPJgE734fYQ",
        "colab_type": "code",
        "colab": {
          "base_uri": "https://localhost:8080/",
          "height": 457,
          "referenced_widgets": [
            "4f3bb1c7b7a04779be5ae46b18a9f08c",
            "30609e9f0de4445a8efa31e7b1602f58",
            "59d34b9c82a04d00bc92f2ab8d97491b",
            "a0e38253095f4c36858edde04d08e14d",
            "c420a846322c4a6c958604b34f5519a3",
            "d2375b8f042740999f7393d59929498f",
            "2f6563bca70e4c77892b69a9295edbfc",
            "58e3b92589234acb9b31c9eccbcaf1b7",
            "4870c147349442029460369415ea5f17",
            "9ccddd10facc4449871d635cbff44f31"
          ]
        },
        "outputId": "731f0722-abb6-49a6-993d-d6c3d488b4e1"
      },
      "source": [
        "eq = DiffusionPDE()                                 # define the physics\n",
        "grid = UnitGrid([16, 16])                           # generate grid\n",
        "state = ScalarField.random_uniform(grid, 0.2, 0.3)  # generate initial condition\n",
        "\n",
        "storage = MemoryStorage()               # create storage\n",
        "tracker = storage.tracker(interval=1)   # create associated tracker\n",
        "\n",
        "eq.solve(state, t_range=2, dt=0.005, tracker=tracker)\n",
        "\n",
        "# create movie from stored data\n",
        "movie_scalar(storage, '/tmp/diffusion.mov')"
      ],
      "execution_count": 31,
      "outputs": [
        {
          "output_type": "display_data",
          "data": {
            "application/vnd.jupyter.widget-view+json": {
              "model_id": "4f3bb1c7b7a04779be5ae46b18a9f08c",
              "version_minor": 0,
              "version_major": 2
            },
            "text/plain": [
              "Output()"
            ]
          },
          "metadata": {
            "tags": []
          }
        },
        {
          "output_type": "display_data",
          "data": {
            "application/vnd.jupyter.widget-view+json": {
              "model_id": "59d34b9c82a04d00bc92f2ab8d97491b",
              "version_minor": 0,
              "version_major": 2
            },
            "text/plain": [
              "HBox(children=(FloatProgress(value=0.0, max=3.0), HTML(value='')))"
            ]
          },
          "metadata": {
            "tags": []
          }
        },
        {
          "output_type": "stream",
          "text": [
            "\n"
          ],
          "name": "stdout"
        }
      ]
    },
    {
      "cell_type": "code",
      "metadata": {
        "id": "Rpe-sxa26LaB",
        "colab_type": "code",
        "colab": {}
      },
      "source": [
        "#Practicing..."
      ],
      "execution_count": 32,
      "outputs": []
    },
    {
      "cell_type": "code",
      "metadata": {
        "id": "nm3YihbS5JeJ",
        "colab_type": "code",
        "colab": {}
      },
      "source": [
        "grid = UnitGrid([32,32])"
      ],
      "execution_count": 34,
      "outputs": []
    },
    {
      "cell_type": "code",
      "metadata": {
        "id": "8e99Ex7f6SWt",
        "colab_type": "code",
        "colab": {
          "base_uri": "https://localhost:8080/",
          "height": 449
        },
        "outputId": "61099e63-de68-41df-8584-c55bfcf84f42"
      },
      "source": [
        "grid.plot()"
      ],
      "execution_count": 35,
      "outputs": [
        {
          "output_type": "display_data",
          "data": {
            "image/png": "[encoded data removed]",
            "text/plain": [
              "<Figure size 640x480 with 1 Axes>"
            ]
          },
          "metadata": {
            "tags": []
          }
        }
      ]
    },
    {
      "cell_type": "code",
      "metadata": {
        "id": "r92IReg66bp7",
        "colab_type": "code",
        "colab": {
          "base_uri": "https://localhost:8080/",
          "height": 350
        },
        "outputId": "50d7df5d-6492-4d91-9757-9e4bd8e07d6a"
      },
      "source": [
        "grid = CartesianGrid([[0, 2], [0, 1]], [16, 32])\n",
        "grid.plot(title=f'Area={grid.volume}')"
      ],
      "execution_count": 37,
      "outputs": [
        {
          "output_type": "display_data",
          "data": {
            "image/png": "[encoded data removed]",
            "text/plain": [
              "<Figure size 640x480 with 1 Axes>"
            ]
          },
          "metadata": {
            "tags": []
          }
        }
      ]
    },
    {
      "cell_type": "code",
      "metadata": {
        "id": "SHbMFiYu6nxc",
        "colab_type": "code",
        "colab": {
          "base_uri": "https://localhost:8080/",
          "height": 472
        },
        "outputId": "2582ca0b-beb4-45aa-852f-2e0f9cd54f50"
      },
      "source": [
        "\n",
        "grid = PolarGrid(5, 16)\n",
        "grid.plot(title=f'Area={grid.volume:.3g}')"
      ],
      "execution_count": 38,
      "outputs": [
        {
          "output_type": "display_data",
          "data": {
            "image/png": "[encoded data removed]",
            "text/plain": [
              "<Figure size 640x480 with 1 Axes>"
            ]
          },
          "metadata": {
            "tags": []
          }
        }
      ]
    },
    {
      "cell_type": "markdown",
      "metadata": {
        "id": "fge3RNSE6yQN",
        "colab_type": "text"
      },
      "source": [
        "#ScalarFields\n",
        "\n",
        "Scalar fields represent scalar quantities that depend on position. In this package, scalar fields are represented by their values at the support points of the discretized grids discussed above. Consequently, one first has to construct a grid and pass it to the ScalarField class to construct a scalar field."
      ]
    },
    {
      "cell_type": "code",
      "metadata": {
        "id": "qkISUqiv6uV0",
        "colab_type": "code",
        "colab": {
          "base_uri": "https://localhost:8080/",
          "height": 455
        },
        "outputId": "dc5cefdf-ed66-4582-8a13-f8f170c1349a"
      },
      "source": [
        "grid = UnitGrid([20,20])\n",
        "grid.plot()"
      ],
      "execution_count": 39,
      "outputs": [
        {
          "output_type": "display_data",
          "data": {
            "image/png": "[encoded data removed]",
            "text/plain": [
              "<Figure size 640x480 with 1 Axes>"
            ]
          },
          "metadata": {
            "tags": []
          }
        }
      ]
    },
    {
      "cell_type": "code",
      "metadata": {
        "id": "-CSYKsn87VTa",
        "colab_type": "code",
        "colab": {}
      },
      "source": [
        "P = np.ones([20,20])\n",
        "P = P*2000"
      ],
      "execution_count": 44,
      "outputs": []
    },
    {
      "cell_type": "code",
      "metadata": {
        "id": "ROQteWP_7elo",
        "colab_type": "code",
        "colab": {}
      },
      "source": [
        "# P is now the initial Pressure value containing scalar field. "
      ],
      "execution_count": 46,
      "outputs": []
    },
    {
      "cell_type": "code",
      "metadata": {
        "id": "3ZkrylX57fg-",
        "colab_type": "code",
        "colab": {}
      },
      "source": [
        "field = ScalarField(grid=grid , data = P)"
      ],
      "execution_count": 47,
      "outputs": []
    },
    {
      "cell_type": "code",
      "metadata": {
        "id": "3NJacqnj7-MG",
        "colab_type": "code",
        "colab": {}
      },
      "source": [
        "import pandas as pd\n"
      ],
      "execution_count": 50,
      "outputs": []
    },
    {
      "cell_type": "code",
      "metadata": {
        "id": "3ZsKo6dq7z_w",
        "colab_type": "code",
        "colab": {}
      },
      "source": [
        "df = pd.DataFrame(field.data)"
      ],
      "execution_count": 51,
      "outputs": []
    },
    {
      "cell_type": "code",
      "metadata": {
        "id": "ytQUc-ZZ72Hu",
        "colab_type": "code",
        "colab": {
          "base_uri": "https://localhost:8080/",
          "height": 669
        },
        "outputId": "f93b1f83-d444-4c3f-cb27-7b59df03d448"
      },
      "source": [
        "df #just to display the various pressure values in each grid block."
      ],
      "execution_count": 52,
      "outputs": [
        {
          "output_type": "execute_result",
          "data": {
            "text/html": [
              "<div>\n",
              "<style scoped>\n",
              "    .dataframe tbody tr th:only-of-type {\n",
              "        vertical-align: middle;\n",
              "    }\n",
              "\n",
              "    .dataframe tbody tr th {\n",
              "        vertical-align: top;\n",
              "    }\n",
              "\n",
              "    .dataframe thead th {\n",
              "        text-align: right;\n",
              "    }\n",
              "</style>\n",
              "<table border=\"1\" class=\"dataframe\">\n",
              "  <thead>\n",
              "    <tr style=\"text-align: right;\">\n",
              "      <th></th>\n",
              "      <th>0</th>\n",
              "      <th>1</th>\n",
              "      <th>2</th>\n",
              "      <th>3</th>\n",
              "      <th>4</th>\n",
              "      <th>5</th>\n",
              "      <th>6</th>\n",
              "      <th>7</th>\n",
              "      <th>8</th>\n",
              "      <th>9</th>\n",
              "      <th>10</th>\n",
              "      <th>11</th>\n",
              "      <th>12</th>\n",
              "      <th>13</th>\n",
              "      <th>14</th>\n",
              "      <th>15</th>\n",
              "      <th>16</th>\n",
              "      <th>17</th>\n",
              "      <th>18</th>\n",
              "      <th>19</th>\n",
              "    </tr>\n",
              "  </thead>\n",
              "  <tbody>\n",
              "    <tr>\n",
              "      <th>0</th>\n",
              "      <td>2000.0</td>\n",
              "      <td>2000.0</td>\n",
              "      <td>2000.0</td>\n",
              "      <td>2000.0</td>\n",
              "      <td>2000.0</td>\n",
              "      <td>2000.0</td>\n",
              "      <td>2000.0</td>\n",
              "      <td>2000.0</td>\n",
              "      <td>2000.0</td>\n",
              "      <td>2000.0</td>\n",
              "      <td>2000.0</td>\n",
              "      <td>2000.0</td>\n",
              "      <td>2000.0</td>\n",
              "      <td>2000.0</td>\n",
              "      <td>2000.0</td>\n",
              "      <td>2000.0</td>\n",
              "      <td>2000.0</td>\n",
              "      <td>2000.0</td>\n",
              "      <td>2000.0</td>\n",
              "      <td>2000.0</td>\n",
              "    </tr>\n",
              "    <tr>\n",
              "      <th>1</th>\n",
              "      <td>2000.0</td>\n",
              "      <td>2000.0</td>\n",
              "      <td>2000.0</td>\n",
              "      <td>2000.0</td>\n",
              "      <td>2000.0</td>\n",
              "      <td>2000.0</td>\n",
              "      <td>2000.0</td>\n",
              "      <td>2000.0</td>\n",
              "      <td>2000.0</td>\n",
              "      <td>2000.0</td>\n",
              "      <td>2000.0</td>\n",
              "      <td>2000.0</td>\n",
              "      <td>2000.0</td>\n",
              "      <td>2000.0</td>\n",
              "      <td>2000.0</td>\n",
              "      <td>2000.0</td>\n",
              "      <td>2000.0</td>\n",
              "      <td>2000.0</td>\n",
              "      <td>2000.0</td>\n",
              "      <td>2000.0</td>\n",
              "    </tr>\n",
              "    <tr>\n",
              "      <th>2</th>\n",
              "      <td>2000.0</td>\n",
              "      <td>2000.0</td>\n",
              "      <td>2000.0</td>\n",
              "      <td>2000.0</td>\n",
              "      <td>2000.0</td>\n",
              "      <td>2000.0</td>\n",
              "      <td>2000.0</td>\n",
              "      <td>2000.0</td>\n",
              "      <td>2000.0</td>\n",
              "      <td>2000.0</td>\n",
              "      <td>2000.0</td>\n",
              "      <td>2000.0</td>\n",
              "      <td>2000.0</td>\n",
              "      <td>2000.0</td>\n",
              "      <td>2000.0</td>\n",
              "      <td>2000.0</td>\n",
              "      <td>2000.0</td>\n",
              "      <td>2000.0</td>\n",
              "      <td>2000.0</td>\n",
              "      <td>2000.0</td>\n",
              "    </tr>\n",
              "    <tr>\n",
              "      <th>3</th>\n",
              "      <td>2000.0</td>\n",
              "      <td>2000.0</td>\n",
              "      <td>2000.0</td>\n",
              "      <td>2000.0</td>\n",
              "      <td>2000.0</td>\n",
              "      <td>2000.0</td>\n",
              "      <td>2000.0</td>\n",
              "      <td>2000.0</td>\n",
              "      <td>2000.0</td>\n",
              "      <td>2000.0</td>\n",
              "      <td>2000.0</td>\n",
              "      <td>2000.0</td>\n",
              "      <td>2000.0</td>\n",
              "      <td>2000.0</td>\n",
              "      <td>2000.0</td>\n",
              "      <td>2000.0</td>\n",
              "      <td>2000.0</td>\n",
              "      <td>2000.0</td>\n",
              "      <td>2000.0</td>\n",
              "      <td>2000.0</td>\n",
              "    </tr>\n",
              "    <tr>\n",
              "      <th>4</th>\n",
              "      <td>2000.0</td>\n",
              "      <td>2000.0</td>\n",
              "      <td>2000.0</td>\n",
              "      <td>2000.0</td>\n",
              "      <td>2000.0</td>\n",
              "      <td>2000.0</td>\n",
              "      <td>2000.0</td>\n",
              "      <td>2000.0</td>\n",
              "      <td>2000.0</td>\n",
              "      <td>2000.0</td>\n",
              "      <td>2000.0</td>\n",
              "      <td>2000.0</td>\n",
              "      <td>2000.0</td>\n",
              "      <td>2000.0</td>\n",
              "      <td>2000.0</td>\n",
              "      <td>2000.0</td>\n",
              "      <td>2000.0</td>\n",
              "      <td>2000.0</td>\n",
              "      <td>2000.0</td>\n",
              "      <td>2000.0</td>\n",
              "    </tr>\n",
              "    <tr>\n",
              "      <th>5</th>\n",
              "      <td>2000.0</td>\n",
              "      <td>2000.0</td>\n",
              "      <td>2000.0</td>\n",
              "      <td>2000.0</td>\n",
              "      <td>2000.0</td>\n",
              "      <td>2000.0</td>\n",
              "      <td>2000.0</td>\n",
              "      <td>2000.0</td>\n",
              "      <td>2000.0</td>\n",
              "      <td>2000.0</td>\n",
              "      <td>2000.0</td>\n",
              "      <td>2000.0</td>\n",
              "      <td>2000.0</td>\n",
              "      <td>2000.0</td>\n",
              "      <td>2000.0</td>\n",
              "      <td>2000.0</td>\n",
              "      <td>2000.0</td>\n",
              "      <td>2000.0</td>\n",
              "      <td>2000.0</td>\n",
              "      <td>2000.0</td>\n",
              "    </tr>\n",
              "    <tr>\n",
              "      <th>6</th>\n",
              "      <td>2000.0</td>\n",
              "      <td>2000.0</td>\n",
              "      <td>2000.0</td>\n",
              "      <td>2000.0</td>\n",
              "      <td>2000.0</td>\n",
              "      <td>2000.0</td>\n",
              "      <td>2000.0</td>\n",
              "      <td>2000.0</td>\n",
              "      <td>2000.0</td>\n",
              "      <td>2000.0</td>\n",
              "      <td>2000.0</td>\n",
              "      <td>2000.0</td>\n",
              "      <td>2000.0</td>\n",
              "      <td>2000.0</td>\n",
              "      <td>2000.0</td>\n",
              "      <td>2000.0</td>\n",
              "      <td>2000.0</td>\n",
              "      <td>2000.0</td>\n",
              "      <td>2000.0</td>\n",
              "      <td>2000.0</td>\n",
              "    </tr>\n",
              "    <tr>\n",
              "      <th>7</th>\n",
              "      <td>2000.0</td>\n",
              "      <td>2000.0</td>\n",
              "      <td>2000.0</td>\n",
              "      <td>2000.0</td>\n",
              "      <td>2000.0</td>\n",
              "      <td>2000.0</td>\n",
              "      <td>2000.0</td>\n",
              "      <td>2000.0</td>\n",
              "      <td>2000.0</td>\n",
              "      <td>2000.0</td>\n",
              "      <td>2000.0</td>\n",
              "      <td>2000.0</td>\n",
              "      <td>2000.0</td>\n",
              "      <td>2000.0</td>\n",
              "      <td>2000.0</td>\n",
              "      <td>2000.0</td>\n",
              "      <td>2000.0</td>\n",
              "      <td>2000.0</td>\n",
              "      <td>2000.0</td>\n",
              "      <td>2000.0</td>\n",
              "    </tr>\n",
              "    <tr>\n",
              "      <th>8</th>\n",
              "      <td>2000.0</td>\n",
              "      <td>2000.0</td>\n",
              "      <td>2000.0</td>\n",
              "      <td>2000.0</td>\n",
              "      <td>2000.0</td>\n",
              "      <td>2000.0</td>\n",
              "      <td>2000.0</td>\n",
              "      <td>2000.0</td>\n",
              "      <td>2000.0</td>\n",
              "      <td>2000.0</td>\n",
              "      <td>2000.0</td>\n",
              "      <td>2000.0</td>\n",
              "      <td>2000.0</td>\n",
              "      <td>2000.0</td>\n",
              "      <td>2000.0</td>\n",
              "      <td>2000.0</td>\n",
              "      <td>2000.0</td>\n",
              "      <td>2000.0</td>\n",
              "      <td>2000.0</td>\n",
              "      <td>2000.0</td>\n",
              "    </tr>\n",
              "    <tr>\n",
              "      <th>9</th>\n",
              "      <td>2000.0</td>\n",
              "      <td>2000.0</td>\n",
              "      <td>2000.0</td>\n",
              "      <td>2000.0</td>\n",
              "      <td>2000.0</td>\n",
              "      <td>2000.0</td>\n",
              "      <td>2000.0</td>\n",
              "      <td>2000.0</td>\n",
              "      <td>2000.0</td>\n",
              "      <td>2000.0</td>\n",
              "      <td>2000.0</td>\n",
              "      <td>2000.0</td>\n",
              "      <td>2000.0</td>\n",
              "      <td>2000.0</td>\n",
              "      <td>2000.0</td>\n",
              "      <td>2000.0</td>\n",
              "      <td>2000.0</td>\n",
              "      <td>2000.0</td>\n",
              "      <td>2000.0</td>\n",
              "      <td>2000.0</td>\n",
              "    </tr>\n",
              "    <tr>\n",
              "      <th>10</th>\n",
              "      <td>2000.0</td>\n",
              "      <td>2000.0</td>\n",
              "      <td>2000.0</td>\n",
              "      <td>2000.0</td>\n",
              "      <td>2000.0</td>\n",
              "      <td>2000.0</td>\n",
              "      <td>2000.0</td>\n",
              "      <td>2000.0</td>\n",
              "      <td>2000.0</td>\n",
              "      <td>2000.0</td>\n",
              "      <td>2000.0</td>\n",
              "      <td>2000.0</td>\n",
              "      <td>2000.0</td>\n",
              "      <td>2000.0</td>\n",
              "      <td>2000.0</td>\n",
              "      <td>2000.0</td>\n",
              "      <td>2000.0</td>\n",
              "      <td>2000.0</td>\n",
              "      <td>2000.0</td>\n",
              "      <td>2000.0</td>\n",
              "    </tr>\n",
              "    <tr>\n",
              "      <th>11</th>\n",
              "      <td>2000.0</td>\n",
              "      <td>2000.0</td>\n",
              "      <td>2000.0</td>\n",
              "      <td>2000.0</td>\n",
              "      <td>2000.0</td>\n",
              "      <td>2000.0</td>\n",
              "      <td>2000.0</td>\n",
              "      <td>2000.0</td>\n",
              "      <td>2000.0</td>\n",
              "      <td>2000.0</td>\n",
              "      <td>2000.0</td>\n",
              "      <td>2000.0</td>\n",
              "      <td>2000.0</td>\n",
              "      <td>2000.0</td>\n",
              "      <td>2000.0</td>\n",
              "      <td>2000.0</td>\n",
              "      <td>2000.0</td>\n",
              "      <td>2000.0</td>\n",
              "      <td>2000.0</td>\n",
              "      <td>2000.0</td>\n",
              "    </tr>\n",
              "    <tr>\n",
              "      <th>12</th>\n",
              "      <td>2000.0</td>\n",
              "      <td>2000.0</td>\n",
              "      <td>2000.0</td>\n",
              "      <td>2000.0</td>\n",
              "      <td>2000.0</td>\n",
              "      <td>2000.0</td>\n",
              "      <td>2000.0</td>\n",
              "      <td>2000.0</td>\n",
              "      <td>2000.0</td>\n",
              "      <td>2000.0</td>\n",
              "      <td>2000.0</td>\n",
              "      <td>2000.0</td>\n",
              "      <td>2000.0</td>\n",
              "      <td>2000.0</td>\n",
              "      <td>2000.0</td>\n",
              "      <td>2000.0</td>\n",
              "      <td>2000.0</td>\n",
              "      <td>2000.0</td>\n",
              "      <td>2000.0</td>\n",
              "      <td>2000.0</td>\n",
              "    </tr>\n",
              "    <tr>\n",
              "      <th>13</th>\n",
              "      <td>2000.0</td>\n",
              "      <td>2000.0</td>\n",
              "      <td>2000.0</td>\n",
              "      <td>2000.0</td>\n",
              "      <td>2000.0</td>\n",
              "      <td>2000.0</td>\n",
              "      <td>2000.0</td>\n",
              "      <td>2000.0</td>\n",
              "      <td>2000.0</td>\n",
              "      <td>2000.0</td>\n",
              "      <td>2000.0</td>\n",
              "      <td>2000.0</td>\n",
              "      <td>2000.0</td>\n",
              "      <td>2000.0</td>\n",
              "      <td>2000.0</td>\n",
              "      <td>2000.0</td>\n",
              "      <td>2000.0</td>\n",
              "      <td>2000.0</td>\n",
              "      <td>2000.0</td>\n",
              "      <td>2000.0</td>\n",
              "    </tr>\n",
              "    <tr>\n",
              "      <th>14</th>\n",
              "      <td>2000.0</td>\n",
              "      <td>2000.0</td>\n",
              "      <td>2000.0</td>\n",
              "      <td>2000.0</td>\n",
              "      <td>2000.0</td>\n",
              "      <td>2000.0</td>\n",
              "      <td>2000.0</td>\n",
              "      <td>2000.0</td>\n",
              "      <td>2000.0</td>\n",
              "      <td>2000.0</td>\n",
              "      <td>2000.0</td>\n",
              "      <td>2000.0</td>\n",
              "      <td>2000.0</td>\n",
              "      <td>2000.0</td>\n",
              "      <td>2000.0</td>\n",
              "      <td>2000.0</td>\n",
              "      <td>2000.0</td>\n",
              "      <td>2000.0</td>\n",
              "      <td>2000.0</td>\n",
              "      <td>2000.0</td>\n",
              "    </tr>\n",
              "    <tr>\n",
              "      <th>15</th>\n",
              "      <td>2000.0</td>\n",
              "      <td>2000.0</td>\n",
              "      <td>2000.0</td>\n",
              "      <td>2000.0</td>\n",
              "      <td>2000.0</td>\n",
              "      <td>2000.0</td>\n",
              "      <td>2000.0</td>\n",
              "      <td>2000.0</td>\n",
              "      <td>2000.0</td>\n",
              "      <td>2000.0</td>\n",
              "      <td>2000.0</td>\n",
              "      <td>2000.0</td>\n",
              "      <td>2000.0</td>\n",
              "      <td>2000.0</td>\n",
              "      <td>2000.0</td>\n",
              "      <td>2000.0</td>\n",
              "      <td>2000.0</td>\n",
              "      <td>2000.0</td>\n",
              "      <td>2000.0</td>\n",
              "      <td>2000.0</td>\n",
              "    </tr>\n",
              "    <tr>\n",
              "      <th>16</th>\n",
              "      <td>2000.0</td>\n",
              "      <td>2000.0</td>\n",
              "      <td>2000.0</td>\n",
              "      <td>2000.0</td>\n",
              "      <td>2000.0</td>\n",
              "      <td>2000.0</td>\n",
              "      <td>2000.0</td>\n",
              "      <td>2000.0</td>\n",
              "      <td>2000.0</td>\n",
              "      <td>2000.0</td>\n",
              "      <td>2000.0</td>\n",
              "      <td>2000.0</td>\n",
              "      <td>2000.0</td>\n",
              "      <td>2000.0</td>\n",
              "      <td>2000.0</td>\n",
              "      <td>2000.0</td>\n",
              "      <td>2000.0</td>\n",
              "      <td>2000.0</td>\n",
              "      <td>2000.0</td>\n",
              "      <td>2000.0</td>\n",
              "    </tr>\n",
              "    <tr>\n",
              "      <th>17</th>\n",
              "      <td>2000.0</td>\n",
              "      <td>2000.0</td>\n",
              "      <td>2000.0</td>\n",
              "      <td>2000.0</td>\n",
              "      <td>2000.0</td>\n",
              "      <td>2000.0</td>\n",
              "      <td>2000.0</td>\n",
              "      <td>2000.0</td>\n",
              "      <td>2000.0</td>\n",
              "      <td>2000.0</td>\n",
              "      <td>2000.0</td>\n",
              "      <td>2000.0</td>\n",
              "      <td>2000.0</td>\n",
              "      <td>2000.0</td>\n",
              "      <td>2000.0</td>\n",
              "      <td>2000.0</td>\n",
              "      <td>2000.0</td>\n",
              "      <td>2000.0</td>\n",
              "      <td>2000.0</td>\n",
              "      <td>2000.0</td>\n",
              "    </tr>\n",
              "    <tr>\n",
              "      <th>18</th>\n",
              "      <td>2000.0</td>\n",
              "      <td>2000.0</td>\n",
              "      <td>2000.0</td>\n",
              "      <td>2000.0</td>\n",
              "      <td>2000.0</td>\n",
              "      <td>2000.0</td>\n",
              "      <td>2000.0</td>\n",
              "      <td>2000.0</td>\n",
              "      <td>2000.0</td>\n",
              "      <td>2000.0</td>\n",
              "      <td>2000.0</td>\n",
              "      <td>2000.0</td>\n",
              "      <td>2000.0</td>\n",
              "      <td>2000.0</td>\n",
              "      <td>2000.0</td>\n",
              "      <td>2000.0</td>\n",
              "      <td>2000.0</td>\n",
              "      <td>2000.0</td>\n",
              "      <td>2000.0</td>\n",
              "      <td>2000.0</td>\n",
              "    </tr>\n",
              "    <tr>\n",
              "      <th>19</th>\n",
              "      <td>2000.0</td>\n",
              "      <td>2000.0</td>\n",
              "      <td>2000.0</td>\n",
              "      <td>2000.0</td>\n",
              "      <td>2000.0</td>\n",
              "      <td>2000.0</td>\n",
              "      <td>2000.0</td>\n",
              "      <td>2000.0</td>\n",
              "      <td>2000.0</td>\n",
              "      <td>2000.0</td>\n",
              "      <td>2000.0</td>\n",
              "      <td>2000.0</td>\n",
              "      <td>2000.0</td>\n",
              "      <td>2000.0</td>\n",
              "      <td>2000.0</td>\n",
              "      <td>2000.0</td>\n",
              "      <td>2000.0</td>\n",
              "      <td>2000.0</td>\n",
              "      <td>2000.0</td>\n",
              "      <td>2000.0</td>\n",
              "    </tr>\n",
              "  </tbody>\n",
              "</table>\n",
              "</div>"
            ],
            "text/plain": [
              "        0       1       2       3   ...      16      17      18      19\n",
              "0   2000.0  2000.0  2000.0  2000.0  ...  2000.0  2000.0  2000.0  2000.0\n",
              "1   2000.0  2000.0  2000.0  2000.0  ...  2000.0  2000.0  2000.0  2000.0\n",
              "2   2000.0  2000.0  2000.0  2000.0  ...  2000.0  2000.0  2000.0  2000.0\n",
              "3   2000.0  2000.0  2000.0  2000.0  ...  2000.0  2000.0  2000.0  2000.0\n",
              "4   2000.0  2000.0  2000.0  2000.0  ...  2000.0  2000.0  2000.0  2000.0\n",
              "5   2000.0  2000.0  2000.0  2000.0  ...  2000.0  2000.0  2000.0  2000.0\n",
              "6   2000.0  2000.0  2000.0  2000.0  ...  2000.0  2000.0  2000.0  2000.0\n",
              "7   2000.0  2000.0  2000.0  2000.0  ...  2000.0  2000.0  2000.0  2000.0\n",
              "8   2000.0  2000.0  2000.0  2000.0  ...  2000.0  2000.0  2000.0  2000.0\n",
              "9   2000.0  2000.0  2000.0  2000.0  ...  2000.0  2000.0  2000.0  2000.0\n",
              "10  2000.0  2000.0  2000.0  2000.0  ...  2000.0  2000.0  2000.0  2000.0\n",
              "11  2000.0  2000.0  2000.0  2000.0  ...  2000.0  2000.0  2000.0  2000.0\n",
              "12  2000.0  2000.0  2000.0  2000.0  ...  2000.0  2000.0  2000.0  2000.0\n",
              "13  2000.0  2000.0  2000.0  2000.0  ...  2000.0  2000.0  2000.0  2000.0\n",
              "14  2000.0  2000.0  2000.0  2000.0  ...  2000.0  2000.0  2000.0  2000.0\n",
              "15  2000.0  2000.0  2000.0  2000.0  ...  2000.0  2000.0  2000.0  2000.0\n",
              "16  2000.0  2000.0  2000.0  2000.0  ...  2000.0  2000.0  2000.0  2000.0\n",
              "17  2000.0  2000.0  2000.0  2000.0  ...  2000.0  2000.0  2000.0  2000.0\n",
              "18  2000.0  2000.0  2000.0  2000.0  ...  2000.0  2000.0  2000.0  2000.0\n",
              "19  2000.0  2000.0  2000.0  2000.0  ...  2000.0  2000.0  2000.0  2000.0\n",
              "\n",
              "[20 rows x 20 columns]"
            ]
          },
          "metadata": {
            "tags": []
          },
          "execution_count": 52
        }
      ]
    },
    {
      "cell_type": "code",
      "metadata": {
        "id": "-WKVGO6u8Bm1",
        "colab_type": "code",
        "colab": {
          "base_uri": "https://localhost:8080/",
          "height": 439
        },
        "outputId": "4fb6dfda-937a-4cd8-bc5e-08898c7f0432"
      },
      "source": [
        "import seaborn as sns\n",
        "sns.heatmap(df)\n",
        "plt.show()"
      ],
      "execution_count": 55,
      "outputs": [
        {
          "output_type": "display_data",
          "data": {
            "image/png": "[encoded data removed]",
            "text/plain": [
              "<Figure size 640x480 with 3 Axes>"
            ]
          },
          "metadata": {
            "tags": []
          }
        }
      ]
    },
    {
      "cell_type": "code",
      "metadata": {
        "id": "nYO7ZSBf8SH8",
        "colab_type": "code",
        "colab": {
          "base_uri": "https://localhost:8080/",
          "height": 472
        },
        "outputId": "72d775a9-a7fa-48bd-b56a-736d12f5688d"
      },
      "source": [
        "#or simply\n",
        "field.plot(colorbar=True)"
      ],
      "execution_count": 56,
      "outputs": [
        {
          "output_type": "display_data",
          "data": {
            "image/png": "[encoded data removed]",
            "text/plain": [
              "<Figure size 640x480 with 2 Axes>"
            ]
          },
          "metadata": {
            "tags": []
          }
        },
        {
          "output_type": "execute_result",
          "data": {
            "text/plain": [
              "<pde.tools.plotting.PlotReference at 0x7efd92cb8708>"
            ]
          },
          "metadata": {
            "tags": []
          },
          "execution_count": 56
        }
      ]
    },
    {
      "cell_type": "markdown",
      "metadata": {
        "id": "sawfqMx_8qoR",
        "colab_type": "text"
      },
      "source": [
        "#Values at individual points can be determined by interpolation"
      ]
    },
    {
      "cell_type": "markdown",
      "metadata": {
        "id": "33YbgWue9GpE",
        "colab_type": "text"
      },
      "source": [
        "#Initializing with a random normal distribution."
      ]
    },
    {
      "cell_type": "code",
      "metadata": {
        "id": "drtbrPVG8ffu",
        "colab_type": "code",
        "colab": {
          "base_uri": "https://localhost:8080/",
          "height": 472
        },
        "outputId": "416420f3-4f8f-40da-845b-d2c4f9ad4c3c"
      },
      "source": [
        "\n",
        "field = ScalarField.random_normal(grid)\n",
        "field.plot(title=f'Average={field.average:.3f}', colorbar=True);\n",
        "\n"
      ],
      "execution_count": 60,
      "outputs": [
        {
          "output_type": "display_data",
          "data": {
            "image/png": "[encoded data removed]",
            "text/plain": [
              "<Figure size 640x480 with 2 Axes>"
            ]
          },
          "metadata": {
            "tags": []
          }
        }
      ]
    },
    {
      "cell_type": "code",
      "metadata": {
        "id": "_8jT1GLh8wvD",
        "colab_type": "code",
        "colab": {}
      },
      "source": [
        ""
      ],
      "execution_count": null,
      "outputs": []
    },
    {
      "cell_type": "markdown",
      "metadata": {
        "id": "VJe7wws2-H99",
        "colab_type": "text"
      },
      "source": [
        "# **Tutorial 2 : Solving Pre-Defined PDEs **"
      ]
    },
    {
      "cell_type": "markdown",
      "metadata": {
        "id": "6JXOgwOY-W0B",
        "colab_type": "text"
      },
      "source": [
        "In the simplest case, a PDE evolves a field in time. To reflect this in code, we first define an initial state and then use a simple PDE to evolve it in time"
      ]
    },
    {
      "cell_type": "code",
      "metadata": {
        "id": "NK4PO4Aq-NDL",
        "colab_type": "code",
        "colab": {}
      },
      "source": [
        "DiffusionPDE?"
      ],
      "execution_count": 79,
      "outputs": []
    },
    {
      "cell_type": "markdown",
      "metadata": {
        "id": "yDmc9AxP-pV-",
        "colab_type": "text"
      },
      "source": [
        "$ \\frac {\\partial P} {\\partial t} =  \\eta \\nabla^2 P $"
      ]
    },
    {
      "cell_type": "code",
      "metadata": {
        "id": "SH77Oqx6CJrz",
        "colab_type": "code",
        "colab": {
          "base_uri": "https://localhost:8080/",
          "height": 1000
        },
        "outputId": "e010a3e9-2031-4b53-99ee-940a9a8ee97a"
      },
      "source": [
        "P[:,0] = 150\n",
        "\n",
        "P"
      ],
      "execution_count": 85,
      "outputs": [
        {
          "output_type": "execute_result",
          "data": {
            "text/plain": [
              "array([[ 150., 2000., 2000., 2000., 2000., 2000., 2000., 2000., 2000.,\n",
              "        2000., 2000., 2000., 2000., 2000., 2000., 2000., 2000., 2000.,\n",
              "        2000., 2000.],\n",
              "       [ 150., 2000., 2000., 2000., 2000., 2000., 2000., 2000., 2000.,\n",
              "        2000., 2000., 2000., 2000., 2000., 2000., 2000., 2000., 2000.,\n",
              "        2000., 2000.],\n",
              "       [ 150., 2000., 2000., 2000., 2000., 2000., 2000., 2000., 2000.,\n",
              "        2000., 2000., 2000., 2000., 2000., 2000., 2000., 2000., 2000.,\n",
              "        2000., 2000.],\n",
              "       [ 150., 2000., 2000., 2000., 2000., 2000., 2000., 2000., 2000.,\n",
              "        2000., 2000., 2000., 2000., 2000., 2000., 2000., 2000., 2000.,\n",
              "        2000., 2000.],\n",
              "       [ 150., 2000., 2000., 2000., 2000., 2000., 2000., 2000., 2000.,\n",
              "        2000., 2000., 2000., 2000., 2000., 2000., 2000., 2000., 2000.,\n",
              "        2000., 2000.],\n",
              "       [ 150., 2000., 2000., 2000., 2000., 2000., 2000., 2000., 2000.,\n",
              "        2000., 2000., 2000., 2000., 2000., 2000., 2000., 2000., 2000.,\n",
              "        2000., 2000.],\n",
              "       [ 150., 2000., 2000., 2000., 2000., 2000., 2000., 2000., 2000.,\n",
              "        2000., 2000., 2000., 2000., 2000., 2000., 2000., 2000., 2000.,\n",
              "        2000., 2000.],\n",
              "       [ 150., 2000., 2000., 2000., 2000., 2000., 2000., 2000., 2000.,\n",
              "        2000., 2000., 2000., 2000., 2000., 2000., 2000., 2000., 2000.,\n",
              "        2000., 2000.],\n",
              "       [ 150., 2000., 2000., 2000., 2000., 2000., 2000., 2000., 2000.,\n",
              "        2000., 2000., 2000., 2000., 2000., 2000., 2000., 2000., 2000.,\n",
              "        2000., 2000.],\n",
              "       [ 150., 2000., 2000., 2000., 2000., 2000., 2000., 2000., 2000.,\n",
              "        2000., 2000., 2000., 2000., 2000., 2000., 2000., 2000., 2000.,\n",
              "        2000., 2000.],\n",
              "       [ 150., 2000., 2000., 2000., 2000., 2000., 2000., 2000., 2000.,\n",
              "        2000., 2000., 2000., 2000., 2000., 2000., 2000., 2000., 2000.,\n",
              "        2000., 2000.],\n",
              "       [ 150., 2000., 2000., 2000., 2000., 2000., 2000., 2000., 2000.,\n",
              "        2000., 2000., 2000., 2000., 2000., 2000., 2000., 2000., 2000.,\n",
              "        2000., 2000.],\n",
              "       [ 150., 2000., 2000., 2000., 2000., 2000., 2000., 2000., 2000.,\n",
              "        2000., 2000., 2000., 2000., 2000., 2000., 2000., 2000., 2000.,\n",
              "        2000., 2000.],\n",
              "       [ 150., 2000., 2000., 2000., 2000., 2000., 2000., 2000., 2000.,\n",
              "        2000., 2000., 2000., 2000., 2000., 2000., 2000., 2000., 2000.,\n",
              "        2000., 2000.],\n",
              "       [ 150., 2000., 2000., 2000., 2000., 2000., 2000., 2000., 2000.,\n",
              "        2000., 2000., 2000., 2000., 2000., 2000., 2000., 2000., 2000.,\n",
              "        2000., 2000.],\n",
              "       [ 150., 2000., 2000., 2000., 2000., 2000., 2000., 2000., 2000.,\n",
              "        2000., 2000., 2000., 2000., 2000., 2000., 2000., 2000., 2000.,\n",
              "        2000., 2000.],\n",
              "       [ 150., 2000., 2000., 2000., 2000., 2000., 2000., 2000., 2000.,\n",
              "        2000., 2000., 2000., 2000., 2000., 2000., 2000., 2000., 2000.,\n",
              "        2000., 2000.],\n",
              "       [ 150., 2000., 2000., 2000., 2000., 2000., 2000., 2000., 2000.,\n",
              "        2000., 2000., 2000., 2000., 2000., 2000., 2000., 2000., 2000.,\n",
              "        2000., 2000.],\n",
              "       [ 150., 2000., 2000., 2000., 2000., 2000., 2000., 2000., 2000.,\n",
              "        2000., 2000., 2000., 2000., 2000., 2000., 2000., 2000., 2000.,\n",
              "        2000., 2000.],\n",
              "       [ 150., 2000., 2000., 2000., 2000., 2000., 2000., 2000., 2000.,\n",
              "        2000., 2000., 2000., 2000., 2000., 2000., 2000., 2000., 2000.,\n",
              "        2000., 2000.]])"
            ]
          },
          "metadata": {
            "tags": []
          },
          "execution_count": 85
        }
      ]
    },
    {
      "cell_type": "code",
      "metadata": {
        "id": "tifMEjh6-kw5",
        "colab_type": "code",
        "colab": {}
      },
      "source": [
        "eq = DiffusionPDE(diffusivity=0.1)"
      ],
      "execution_count": 86,
      "outputs": []
    },
    {
      "cell_type": "code",
      "metadata": {
        "id": "PvrU3lWt_aaW",
        "colab_type": "code",
        "colab": {}
      },
      "source": [
        "grid = UnitGrid([20,20])"
      ],
      "execution_count": 87,
      "outputs": []
    },
    {
      "cell_type": "code",
      "metadata": {
        "id": "i8IjEetS_iPd",
        "colab_type": "code",
        "colab": {}
      },
      "source": [
        "state_i = ScalarField(grid=grid , data = P)"
      ],
      "execution_count": 88,
      "outputs": []
    },
    {
      "cell_type": "code",
      "metadata": {
        "id": "EWZ1_xzy_xGz",
        "colab_type": "code",
        "colab": {
          "base_uri": "https://localhost:8080/",
          "height": 489
        },
        "outputId": "802d529b-ce3e-4c62-9e50-052fb99cb800"
      },
      "source": [
        "state_i.plot(title='Initial Pressure condition', colorbar=True )"
      ],
      "execution_count": 89,
      "outputs": [
        {
          "output_type": "display_data",
          "data": {
            "image/png": "[encoded data removed]",
            "text/plain": [
              "<Figure size 640x480 with 2 Axes>"
            ]
          },
          "metadata": {
            "tags": []
          }
        },
        {
          "output_type": "execute_result",
          "data": {
            "text/plain": [
              "<pde.tools.plotting.PlotReference at 0x7efd8e43f388>"
            ]
          },
          "metadata": {
            "tags": []
          },
          "execution_count": 89
        }
      ]
    },
    {
      "cell_type": "code",
      "metadata": {
        "id": "EQKBqrbh_27n",
        "colab_type": "code",
        "colab": {
          "base_uri": "https://localhost:8080/",
          "height": 66,
          "referenced_widgets": [
            "6fc3e8133f934c8db71235ae4b2a280e",
            "edc26afeaf3b408b980bf178c7a6dd1d",
            "68e61038af824135a452710830a27f2c",
            "65e7f306707446aea73c2e99603a1415",
            "938af9ccd66c4f65ba9c6681b2aed288",
            "2c1d270e3b8e4ab4b1910ab9944ee332",
            "b093d1a0d1d34082a6d0a2e874f8f528",
            "a2d8e5e0c79a4b50b0622391d0e294aa"
          ]
        },
        "outputId": "88c99e61-3dbb-4a31-ea44-85f8bbaeecfe"
      },
      "source": [
        "result = eq.solve(state_i , t_range= 10 , dt = 0.0001)"
      ],
      "execution_count": 90,
      "outputs": [
        {
          "output_type": "display_data",
          "data": {
            "application/vnd.jupyter.widget-view+json": {
              "model_id": "6fc3e8133f934c8db71235ae4b2a280e",
              "version_minor": 0,
              "version_major": 2
            },
            "text/plain": [
              "HBox(children=(FloatProgress(value=0.0, max=10.0), HTML(value='')))"
            ]
          },
          "metadata": {
            "tags": []
          }
        },
        {
          "output_type": "stream",
          "text": [
            "\n"
          ],
          "name": "stdout"
        }
      ]
    },
    {
      "cell_type": "code",
      "metadata": {
        "id": "fRC-01AXAkd7",
        "colab_type": "code",
        "colab": {
          "base_uri": "https://localhost:8080/",
          "height": 489
        },
        "outputId": "7074624b-2620-40a7-85fa-b3682dabd063"
      },
      "source": [
        "result.plot(title='Pressure COndition after t = 10' , colorbar=True)"
      ],
      "execution_count": 91,
      "outputs": [
        {
          "output_type": "display_data",
          "data": {
            "image/png": "[encoded data removed]",
            "text/plain": [
              "<Figure size 640x480 with 2 Axes>"
            ]
          },
          "metadata": {
            "tags": []
          }
        },
        {
          "output_type": "execute_result",
          "data": {
            "text/plain": [
              "<pde.tools.plotting.PlotReference at 0x7efd8dff2ac8>"
            ]
          },
          "metadata": {
            "tags": []
          },
          "execution_count": 91
        }
      ]
    },
    {
      "cell_type": "code",
      "metadata": {
        "id": "XqtK5fZFAtfg",
        "colab_type": "code",
        "colab": {}
      },
      "source": [
        ""
      ],
      "execution_count": null,
      "outputs": []
    },
    {
      "cell_type": "markdown",
      "metadata": {
        "id": "k_N9bnk_C1gq",
        "colab_type": "text"
      },
      "source": [
        "##Example 2 :"
      ]
    },
    {
      "cell_type": "code",
      "metadata": {
        "id": "0nSSZc0LC0eL",
        "colab_type": "code",
        "colab": {}
      },
      "source": [
        "g = UnitGrid([50,50])"
      ],
      "execution_count": 92,
      "outputs": []
    },
    {
      "cell_type": "code",
      "metadata": {
        "id": "OJQv6_gvC6rS",
        "colab_type": "code",
        "colab": {}
      },
      "source": [
        "eq = DiffusionPDE()"
      ],
      "execution_count": 93,
      "outputs": []
    },
    {
      "cell_type": "code",
      "metadata": {
        "id": "9Ob49X3YDqwR",
        "colab_type": "code",
        "colab": {}
      },
      "source": [
        "ScalarField.from_expression?"
      ],
      "execution_count": 99,
      "outputs": []
    },
    {
      "cell_type": "code",
      "metadata": {
        "id": "9cg95wyYC97m",
        "colab_type": "code",
        "colab": {}
      },
      "source": [
        "# i_state = from_expression(grid = g , expression = 'exp(-(x**2 + y**2) * 100)')\n",
        "\n",
        "# i_state.plot(title='Initial state')"
      ],
      "execution_count": 102,
      "outputs": []
    },
    {
      "cell_type": "code",
      "metadata": {
        "id": "tq-BFeq8DOoK",
        "colab_type": "code",
        "colab": {}
      },
      "source": [
        ""
      ],
      "execution_count": null,
      "outputs": []
    }
  ]
}